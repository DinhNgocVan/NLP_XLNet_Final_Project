{
  "nbformat": 4,
  "nbformat_minor": 0,
  "metadata": {
    "colab": {
      "name": "XLNet_Implementation.ipynb",
      "provenance": [],
      "include_colab_link": true
    },
    "kernelspec": {
      "name": "python3",
      "display_name": "Python 3"
    },
    "language_info": {
      "name": "python"
    },
    "accelerator": "GPU",
    "widgets": {
      "application/vnd.jupyter.widget-state+json": {
        "3274e4b2cc1f498ea8f298f46304b061": {
          "model_module": "@jupyter-widgets/controls",
          "model_name": "HBoxModel",
          "model_module_version": "1.5.0",
          "state": {
            "_view_name": "HBoxView",
            "_dom_classes": [],
            "_model_name": "HBoxModel",
            "_view_module": "@jupyter-widgets/controls",
            "_model_module_version": "1.5.0",
            "_view_count": null,
            "_view_module_version": "1.5.0",
            "box_style": "",
            "layout": "IPY_MODEL_85f5196428314041870545f350663d8b",
            "_model_module": "@jupyter-widgets/controls",
            "children": [
              "IPY_MODEL_378e4d0be71641848a7139510121f047",
              "IPY_MODEL_71f261dcf91c4c96973a0994ad14c2f6",
              "IPY_MODEL_9ae0df4ac9644a2680524286cf117c85"
            ]
          }
        },
        "85f5196428314041870545f350663d8b": {
          "model_module": "@jupyter-widgets/base",
          "model_name": "LayoutModel",
          "model_module_version": "1.2.0",
          "state": {
            "_view_name": "LayoutView",
            "grid_template_rows": null,
            "right": null,
            "justify_content": null,
            "_view_module": "@jupyter-widgets/base",
            "overflow": null,
            "_model_module_version": "1.2.0",
            "_view_count": null,
            "flex_flow": null,
            "width": null,
            "min_width": null,
            "border": null,
            "align_items": null,
            "bottom": null,
            "_model_module": "@jupyter-widgets/base",
            "top": null,
            "grid_column": null,
            "overflow_y": null,
            "overflow_x": null,
            "grid_auto_flow": null,
            "grid_area": null,
            "grid_template_columns": null,
            "flex": null,
            "_model_name": "LayoutModel",
            "justify_items": null,
            "grid_row": null,
            "max_height": null,
            "align_content": null,
            "visibility": null,
            "align_self": null,
            "height": null,
            "min_height": null,
            "padding": null,
            "grid_auto_rows": null,
            "grid_gap": null,
            "max_width": null,
            "order": null,
            "_view_module_version": "1.2.0",
            "grid_template_areas": null,
            "object_position": null,
            "object_fit": null,
            "grid_auto_columns": null,
            "margin": null,
            "display": null,
            "left": null
          }
        },
        "378e4d0be71641848a7139510121f047": {
          "model_module": "@jupyter-widgets/controls",
          "model_name": "HTMLModel",
          "model_module_version": "1.5.0",
          "state": {
            "_view_name": "HTMLView",
            "style": "IPY_MODEL_388816b076174d30b5ed6941b3abe46a",
            "_dom_classes": [],
            "description": "",
            "_model_name": "HTMLModel",
            "placeholder": "​",
            "_view_module": "@jupyter-widgets/controls",
            "_model_module_version": "1.5.0",
            "value": "Downloading: 100%",
            "_view_count": null,
            "_view_module_version": "1.5.0",
            "description_tooltip": null,
            "_model_module": "@jupyter-widgets/controls",
            "layout": "IPY_MODEL_2ca7c5736094427eada9f35ecfb9e9dc"
          }
        },
        "71f261dcf91c4c96973a0994ad14c2f6": {
          "model_module": "@jupyter-widgets/controls",
          "model_name": "FloatProgressModel",
          "model_module_version": "1.5.0",
          "state": {
            "_view_name": "ProgressView",
            "style": "IPY_MODEL_d68811ce7dff41df80330b0b743a4993",
            "_dom_classes": [],
            "description": "",
            "_model_name": "FloatProgressModel",
            "bar_style": "success",
            "max": 798011,
            "_view_module": "@jupyter-widgets/controls",
            "_model_module_version": "1.5.0",
            "value": 798011,
            "_view_count": null,
            "_view_module_version": "1.5.0",
            "orientation": "horizontal",
            "min": 0,
            "description_tooltip": null,
            "_model_module": "@jupyter-widgets/controls",
            "layout": "IPY_MODEL_2656a19edbc94f21965fb46c255a8de8"
          }
        },
        "9ae0df4ac9644a2680524286cf117c85": {
          "model_module": "@jupyter-widgets/controls",
          "model_name": "HTMLModel",
          "model_module_version": "1.5.0",
          "state": {
            "_view_name": "HTMLView",
            "style": "IPY_MODEL_8dd9e767aa06437caae8d2398d924f91",
            "_dom_classes": [],
            "description": "",
            "_model_name": "HTMLModel",
            "placeholder": "​",
            "_view_module": "@jupyter-widgets/controls",
            "_model_module_version": "1.5.0",
            "value": " 779k/779k [00:00&lt;00:00, 2.59MB/s]",
            "_view_count": null,
            "_view_module_version": "1.5.0",
            "description_tooltip": null,
            "_model_module": "@jupyter-widgets/controls",
            "layout": "IPY_MODEL_71a21b462b454d7cb6a5ae1614346f0e"
          }
        },
        "388816b076174d30b5ed6941b3abe46a": {
          "model_module": "@jupyter-widgets/controls",
          "model_name": "DescriptionStyleModel",
          "model_module_version": "1.5.0",
          "state": {
            "_view_name": "StyleView",
            "_model_name": "DescriptionStyleModel",
            "description_width": "",
            "_view_module": "@jupyter-widgets/base",
            "_model_module_version": "1.5.0",
            "_view_count": null,
            "_view_module_version": "1.2.0",
            "_model_module": "@jupyter-widgets/controls"
          }
        },
        "2ca7c5736094427eada9f35ecfb9e9dc": {
          "model_module": "@jupyter-widgets/base",
          "model_name": "LayoutModel",
          "model_module_version": "1.2.0",
          "state": {
            "_view_name": "LayoutView",
            "grid_template_rows": null,
            "right": null,
            "justify_content": null,
            "_view_module": "@jupyter-widgets/base",
            "overflow": null,
            "_model_module_version": "1.2.0",
            "_view_count": null,
            "flex_flow": null,
            "width": null,
            "min_width": null,
            "border": null,
            "align_items": null,
            "bottom": null,
            "_model_module": "@jupyter-widgets/base",
            "top": null,
            "grid_column": null,
            "overflow_y": null,
            "overflow_x": null,
            "grid_auto_flow": null,
            "grid_area": null,
            "grid_template_columns": null,
            "flex": null,
            "_model_name": "LayoutModel",
            "justify_items": null,
            "grid_row": null,
            "max_height": null,
            "align_content": null,
            "visibility": null,
            "align_self": null,
            "height": null,
            "min_height": null,
            "padding": null,
            "grid_auto_rows": null,
            "grid_gap": null,
            "max_width": null,
            "order": null,
            "_view_module_version": "1.2.0",
            "grid_template_areas": null,
            "object_position": null,
            "object_fit": null,
            "grid_auto_columns": null,
            "margin": null,
            "display": null,
            "left": null
          }
        },
        "d68811ce7dff41df80330b0b743a4993": {
          "model_module": "@jupyter-widgets/controls",
          "model_name": "ProgressStyleModel",
          "model_module_version": "1.5.0",
          "state": {
            "_view_name": "StyleView",
            "_model_name": "ProgressStyleModel",
            "description_width": "",
            "_view_module": "@jupyter-widgets/base",
            "_model_module_version": "1.5.0",
            "_view_count": null,
            "_view_module_version": "1.2.0",
            "bar_color": null,
            "_model_module": "@jupyter-widgets/controls"
          }
        },
        "2656a19edbc94f21965fb46c255a8de8": {
          "model_module": "@jupyter-widgets/base",
          "model_name": "LayoutModel",
          "model_module_version": "1.2.0",
          "state": {
            "_view_name": "LayoutView",
            "grid_template_rows": null,
            "right": null,
            "justify_content": null,
            "_view_module": "@jupyter-widgets/base",
            "overflow": null,
            "_model_module_version": "1.2.0",
            "_view_count": null,
            "flex_flow": null,
            "width": null,
            "min_width": null,
            "border": null,
            "align_items": null,
            "bottom": null,
            "_model_module": "@jupyter-widgets/base",
            "top": null,
            "grid_column": null,
            "overflow_y": null,
            "overflow_x": null,
            "grid_auto_flow": null,
            "grid_area": null,
            "grid_template_columns": null,
            "flex": null,
            "_model_name": "LayoutModel",
            "justify_items": null,
            "grid_row": null,
            "max_height": null,
            "align_content": null,
            "visibility": null,
            "align_self": null,
            "height": null,
            "min_height": null,
            "padding": null,
            "grid_auto_rows": null,
            "grid_gap": null,
            "max_width": null,
            "order": null,
            "_view_module_version": "1.2.0",
            "grid_template_areas": null,
            "object_position": null,
            "object_fit": null,
            "grid_auto_columns": null,
            "margin": null,
            "display": null,
            "left": null
          }
        },
        "8dd9e767aa06437caae8d2398d924f91": {
          "model_module": "@jupyter-widgets/controls",
          "model_name": "DescriptionStyleModel",
          "model_module_version": "1.5.0",
          "state": {
            "_view_name": "StyleView",
            "_model_name": "DescriptionStyleModel",
            "description_width": "",
            "_view_module": "@jupyter-widgets/base",
            "_model_module_version": "1.5.0",
            "_view_count": null,
            "_view_module_version": "1.2.0",
            "_model_module": "@jupyter-widgets/controls"
          }
        },
        "71a21b462b454d7cb6a5ae1614346f0e": {
          "model_module": "@jupyter-widgets/base",
          "model_name": "LayoutModel",
          "model_module_version": "1.2.0",
          "state": {
            "_view_name": "LayoutView",
            "grid_template_rows": null,
            "right": null,
            "justify_content": null,
            "_view_module": "@jupyter-widgets/base",
            "overflow": null,
            "_model_module_version": "1.2.0",
            "_view_count": null,
            "flex_flow": null,
            "width": null,
            "min_width": null,
            "border": null,
            "align_items": null,
            "bottom": null,
            "_model_module": "@jupyter-widgets/base",
            "top": null,
            "grid_column": null,
            "overflow_y": null,
            "overflow_x": null,
            "grid_auto_flow": null,
            "grid_area": null,
            "grid_template_columns": null,
            "flex": null,
            "_model_name": "LayoutModel",
            "justify_items": null,
            "grid_row": null,
            "max_height": null,
            "align_content": null,
            "visibility": null,
            "align_self": null,
            "height": null,
            "min_height": null,
            "padding": null,
            "grid_auto_rows": null,
            "grid_gap": null,
            "max_width": null,
            "order": null,
            "_view_module_version": "1.2.0",
            "grid_template_areas": null,
            "object_position": null,
            "object_fit": null,
            "grid_auto_columns": null,
            "margin": null,
            "display": null,
            "left": null
          }
        },
        "fc00f9abfe2741d48292dfaad6007971": {
          "model_module": "@jupyter-widgets/controls",
          "model_name": "HBoxModel",
          "model_module_version": "1.5.0",
          "state": {
            "_view_name": "HBoxView",
            "_dom_classes": [],
            "_model_name": "HBoxModel",
            "_view_module": "@jupyter-widgets/controls",
            "_model_module_version": "1.5.0",
            "_view_count": null,
            "_view_module_version": "1.5.0",
            "box_style": "",
            "layout": "IPY_MODEL_3b98c87bb56144eb87a3e214365c6fc8",
            "_model_module": "@jupyter-widgets/controls",
            "children": [
              "IPY_MODEL_6d46853ec83842d5ba1d744bbffc0108",
              "IPY_MODEL_6baf0128920c4afe9f25f4be8ccfae60",
              "IPY_MODEL_568cf03606a8419fa5322fa831dd171e"
            ]
          }
        },
        "3b98c87bb56144eb87a3e214365c6fc8": {
          "model_module": "@jupyter-widgets/base",
          "model_name": "LayoutModel",
          "model_module_version": "1.2.0",
          "state": {
            "_view_name": "LayoutView",
            "grid_template_rows": null,
            "right": null,
            "justify_content": null,
            "_view_module": "@jupyter-widgets/base",
            "overflow": null,
            "_model_module_version": "1.2.0",
            "_view_count": null,
            "flex_flow": null,
            "width": null,
            "min_width": null,
            "border": null,
            "align_items": null,
            "bottom": null,
            "_model_module": "@jupyter-widgets/base",
            "top": null,
            "grid_column": null,
            "overflow_y": null,
            "overflow_x": null,
            "grid_auto_flow": null,
            "grid_area": null,
            "grid_template_columns": null,
            "flex": null,
            "_model_name": "LayoutModel",
            "justify_items": null,
            "grid_row": null,
            "max_height": null,
            "align_content": null,
            "visibility": null,
            "align_self": null,
            "height": null,
            "min_height": null,
            "padding": null,
            "grid_auto_rows": null,
            "grid_gap": null,
            "max_width": null,
            "order": null,
            "_view_module_version": "1.2.0",
            "grid_template_areas": null,
            "object_position": null,
            "object_fit": null,
            "grid_auto_columns": null,
            "margin": null,
            "display": null,
            "left": null
          }
        },
        "6d46853ec83842d5ba1d744bbffc0108": {
          "model_module": "@jupyter-widgets/controls",
          "model_name": "HTMLModel",
          "model_module_version": "1.5.0",
          "state": {
            "_view_name": "HTMLView",
            "style": "IPY_MODEL_498d294e5dd74fab97f77feff78139bb",
            "_dom_classes": [],
            "description": "",
            "_model_name": "HTMLModel",
            "placeholder": "​",
            "_view_module": "@jupyter-widgets/controls",
            "_model_module_version": "1.5.0",
            "value": "Downloading: 100%",
            "_view_count": null,
            "_view_module_version": "1.5.0",
            "description_tooltip": null,
            "_model_module": "@jupyter-widgets/controls",
            "layout": "IPY_MODEL_470ccdfb0d014219969b622d9fd34e53"
          }
        },
        "6baf0128920c4afe9f25f4be8ccfae60": {
          "model_module": "@jupyter-widgets/controls",
          "model_name": "FloatProgressModel",
          "model_module_version": "1.5.0",
          "state": {
            "_view_name": "ProgressView",
            "style": "IPY_MODEL_c46d7051e1ca4e1da2ca83e0e1f19e16",
            "_dom_classes": [],
            "description": "",
            "_model_name": "FloatProgressModel",
            "bar_style": "success",
            "max": 1382015,
            "_view_module": "@jupyter-widgets/controls",
            "_model_module_version": "1.5.0",
            "value": 1382015,
            "_view_count": null,
            "_view_module_version": "1.5.0",
            "orientation": "horizontal",
            "min": 0,
            "description_tooltip": null,
            "_model_module": "@jupyter-widgets/controls",
            "layout": "IPY_MODEL_d6a221595b34427d8a7a6f189c43670b"
          }
        },
        "568cf03606a8419fa5322fa831dd171e": {
          "model_module": "@jupyter-widgets/controls",
          "model_name": "HTMLModel",
          "model_module_version": "1.5.0",
          "state": {
            "_view_name": "HTMLView",
            "style": "IPY_MODEL_b4b3443eb4aa4af1b86e13382b0b234b",
            "_dom_classes": [],
            "description": "",
            "_model_name": "HTMLModel",
            "placeholder": "​",
            "_view_module": "@jupyter-widgets/controls",
            "_model_module_version": "1.5.0",
            "value": " 1.32M/1.32M [00:00&lt;00:00, 2.52MB/s]",
            "_view_count": null,
            "_view_module_version": "1.5.0",
            "description_tooltip": null,
            "_model_module": "@jupyter-widgets/controls",
            "layout": "IPY_MODEL_269c864ddf04406290422fcd5f8c778b"
          }
        },
        "498d294e5dd74fab97f77feff78139bb": {
          "model_module": "@jupyter-widgets/controls",
          "model_name": "DescriptionStyleModel",
          "model_module_version": "1.5.0",
          "state": {
            "_view_name": "StyleView",
            "_model_name": "DescriptionStyleModel",
            "description_width": "",
            "_view_module": "@jupyter-widgets/base",
            "_model_module_version": "1.5.0",
            "_view_count": null,
            "_view_module_version": "1.2.0",
            "_model_module": "@jupyter-widgets/controls"
          }
        },
        "470ccdfb0d014219969b622d9fd34e53": {
          "model_module": "@jupyter-widgets/base",
          "model_name": "LayoutModel",
          "model_module_version": "1.2.0",
          "state": {
            "_view_name": "LayoutView",
            "grid_template_rows": null,
            "right": null,
            "justify_content": null,
            "_view_module": "@jupyter-widgets/base",
            "overflow": null,
            "_model_module_version": "1.2.0",
            "_view_count": null,
            "flex_flow": null,
            "width": null,
            "min_width": null,
            "border": null,
            "align_items": null,
            "bottom": null,
            "_model_module": "@jupyter-widgets/base",
            "top": null,
            "grid_column": null,
            "overflow_y": null,
            "overflow_x": null,
            "grid_auto_flow": null,
            "grid_area": null,
            "grid_template_columns": null,
            "flex": null,
            "_model_name": "LayoutModel",
            "justify_items": null,
            "grid_row": null,
            "max_height": null,
            "align_content": null,
            "visibility": null,
            "align_self": null,
            "height": null,
            "min_height": null,
            "padding": null,
            "grid_auto_rows": null,
            "grid_gap": null,
            "max_width": null,
            "order": null,
            "_view_module_version": "1.2.0",
            "grid_template_areas": null,
            "object_position": null,
            "object_fit": null,
            "grid_auto_columns": null,
            "margin": null,
            "display": null,
            "left": null
          }
        },
        "c46d7051e1ca4e1da2ca83e0e1f19e16": {
          "model_module": "@jupyter-widgets/controls",
          "model_name": "ProgressStyleModel",
          "model_module_version": "1.5.0",
          "state": {
            "_view_name": "StyleView",
            "_model_name": "ProgressStyleModel",
            "description_width": "",
            "_view_module": "@jupyter-widgets/base",
            "_model_module_version": "1.5.0",
            "_view_count": null,
            "_view_module_version": "1.2.0",
            "bar_color": null,
            "_model_module": "@jupyter-widgets/controls"
          }
        },
        "d6a221595b34427d8a7a6f189c43670b": {
          "model_module": "@jupyter-widgets/base",
          "model_name": "LayoutModel",
          "model_module_version": "1.2.0",
          "state": {
            "_view_name": "LayoutView",
            "grid_template_rows": null,
            "right": null,
            "justify_content": null,
            "_view_module": "@jupyter-widgets/base",
            "overflow": null,
            "_model_module_version": "1.2.0",
            "_view_count": null,
            "flex_flow": null,
            "width": null,
            "min_width": null,
            "border": null,
            "align_items": null,
            "bottom": null,
            "_model_module": "@jupyter-widgets/base",
            "top": null,
            "grid_column": null,
            "overflow_y": null,
            "overflow_x": null,
            "grid_auto_flow": null,
            "grid_area": null,
            "grid_template_columns": null,
            "flex": null,
            "_model_name": "LayoutModel",
            "justify_items": null,
            "grid_row": null,
            "max_height": null,
            "align_content": null,
            "visibility": null,
            "align_self": null,
            "height": null,
            "min_height": null,
            "padding": null,
            "grid_auto_rows": null,
            "grid_gap": null,
            "max_width": null,
            "order": null,
            "_view_module_version": "1.2.0",
            "grid_template_areas": null,
            "object_position": null,
            "object_fit": null,
            "grid_auto_columns": null,
            "margin": null,
            "display": null,
            "left": null
          }
        },
        "b4b3443eb4aa4af1b86e13382b0b234b": {
          "model_module": "@jupyter-widgets/controls",
          "model_name": "DescriptionStyleModel",
          "model_module_version": "1.5.0",
          "state": {
            "_view_name": "StyleView",
            "_model_name": "DescriptionStyleModel",
            "description_width": "",
            "_view_module": "@jupyter-widgets/base",
            "_model_module_version": "1.5.0",
            "_view_count": null,
            "_view_module_version": "1.2.0",
            "_model_module": "@jupyter-widgets/controls"
          }
        },
        "269c864ddf04406290422fcd5f8c778b": {
          "model_module": "@jupyter-widgets/base",
          "model_name": "LayoutModel",
          "model_module_version": "1.2.0",
          "state": {
            "_view_name": "LayoutView",
            "grid_template_rows": null,
            "right": null,
            "justify_content": null,
            "_view_module": "@jupyter-widgets/base",
            "overflow": null,
            "_model_module_version": "1.2.0",
            "_view_count": null,
            "flex_flow": null,
            "width": null,
            "min_width": null,
            "border": null,
            "align_items": null,
            "bottom": null,
            "_model_module": "@jupyter-widgets/base",
            "top": null,
            "grid_column": null,
            "overflow_y": null,
            "overflow_x": null,
            "grid_auto_flow": null,
            "grid_area": null,
            "grid_template_columns": null,
            "flex": null,
            "_model_name": "LayoutModel",
            "justify_items": null,
            "grid_row": null,
            "max_height": null,
            "align_content": null,
            "visibility": null,
            "align_self": null,
            "height": null,
            "min_height": null,
            "padding": null,
            "grid_auto_rows": null,
            "grid_gap": null,
            "max_width": null,
            "order": null,
            "_view_module_version": "1.2.0",
            "grid_template_areas": null,
            "object_position": null,
            "object_fit": null,
            "grid_auto_columns": null,
            "margin": null,
            "display": null,
            "left": null
          }
        },
        "fc544dd7897f425dacf1c4b465e23b92": {
          "model_module": "@jupyter-widgets/controls",
          "model_name": "HBoxModel",
          "model_module_version": "1.5.0",
          "state": {
            "_view_name": "HBoxView",
            "_dom_classes": [],
            "_model_name": "HBoxModel",
            "_view_module": "@jupyter-widgets/controls",
            "_model_module_version": "1.5.0",
            "_view_count": null,
            "_view_module_version": "1.5.0",
            "box_style": "",
            "layout": "IPY_MODEL_c3cc782d04af48aaa9cf6a6295d83760",
            "_model_module": "@jupyter-widgets/controls",
            "children": [
              "IPY_MODEL_002d7e87cdb9492584da3429df8bca6e",
              "IPY_MODEL_4ae8e9c04c534bfa912d882b3a8a97a5",
              "IPY_MODEL_49e21cbecbdf45afb02173f89109d409"
            ]
          }
        },
        "c3cc782d04af48aaa9cf6a6295d83760": {
          "model_module": "@jupyter-widgets/base",
          "model_name": "LayoutModel",
          "model_module_version": "1.2.0",
          "state": {
            "_view_name": "LayoutView",
            "grid_template_rows": null,
            "right": null,
            "justify_content": null,
            "_view_module": "@jupyter-widgets/base",
            "overflow": null,
            "_model_module_version": "1.2.0",
            "_view_count": null,
            "flex_flow": null,
            "width": null,
            "min_width": null,
            "border": null,
            "align_items": null,
            "bottom": null,
            "_model_module": "@jupyter-widgets/base",
            "top": null,
            "grid_column": null,
            "overflow_y": null,
            "overflow_x": null,
            "grid_auto_flow": null,
            "grid_area": null,
            "grid_template_columns": null,
            "flex": null,
            "_model_name": "LayoutModel",
            "justify_items": null,
            "grid_row": null,
            "max_height": null,
            "align_content": null,
            "visibility": null,
            "align_self": null,
            "height": null,
            "min_height": null,
            "padding": null,
            "grid_auto_rows": null,
            "grid_gap": null,
            "max_width": null,
            "order": null,
            "_view_module_version": "1.2.0",
            "grid_template_areas": null,
            "object_position": null,
            "object_fit": null,
            "grid_auto_columns": null,
            "margin": null,
            "display": null,
            "left": null
          }
        },
        "002d7e87cdb9492584da3429df8bca6e": {
          "model_module": "@jupyter-widgets/controls",
          "model_name": "HTMLModel",
          "model_module_version": "1.5.0",
          "state": {
            "_view_name": "HTMLView",
            "style": "IPY_MODEL_a3bde723510246b998a32e191944b995",
            "_dom_classes": [],
            "description": "",
            "_model_name": "HTMLModel",
            "placeholder": "​",
            "_view_module": "@jupyter-widgets/controls",
            "_model_module_version": "1.5.0",
            "value": "Downloading: 100%",
            "_view_count": null,
            "_view_module_version": "1.5.0",
            "description_tooltip": null,
            "_model_module": "@jupyter-widgets/controls",
            "layout": "IPY_MODEL_cc409459fdd2475f9abf4360264f8326"
          }
        },
        "4ae8e9c04c534bfa912d882b3a8a97a5": {
          "model_module": "@jupyter-widgets/controls",
          "model_name": "FloatProgressModel",
          "model_module_version": "1.5.0",
          "state": {
            "_view_name": "ProgressView",
            "style": "IPY_MODEL_7399b39667be4d6f87792ae38aab2100",
            "_dom_classes": [],
            "description": "",
            "_model_name": "FloatProgressModel",
            "bar_style": "success",
            "max": 760,
            "_view_module": "@jupyter-widgets/controls",
            "_model_module_version": "1.5.0",
            "value": 760,
            "_view_count": null,
            "_view_module_version": "1.5.0",
            "orientation": "horizontal",
            "min": 0,
            "description_tooltip": null,
            "_model_module": "@jupyter-widgets/controls",
            "layout": "IPY_MODEL_514e00211a194c70ad8f3c8052206599"
          }
        },
        "49e21cbecbdf45afb02173f89109d409": {
          "model_module": "@jupyter-widgets/controls",
          "model_name": "HTMLModel",
          "model_module_version": "1.5.0",
          "state": {
            "_view_name": "HTMLView",
            "style": "IPY_MODEL_607b67e687b44b39848e96df36e2ccdb",
            "_dom_classes": [],
            "description": "",
            "_model_name": "HTMLModel",
            "placeholder": "​",
            "_view_module": "@jupyter-widgets/controls",
            "_model_module_version": "1.5.0",
            "value": " 760/760 [00:00&lt;00:00, 22.5kB/s]",
            "_view_count": null,
            "_view_module_version": "1.5.0",
            "description_tooltip": null,
            "_model_module": "@jupyter-widgets/controls",
            "layout": "IPY_MODEL_4e690334d5e644b6afc24cc20739eb38"
          }
        },
        "a3bde723510246b998a32e191944b995": {
          "model_module": "@jupyter-widgets/controls",
          "model_name": "DescriptionStyleModel",
          "model_module_version": "1.5.0",
          "state": {
            "_view_name": "StyleView",
            "_model_name": "DescriptionStyleModel",
            "description_width": "",
            "_view_module": "@jupyter-widgets/base",
            "_model_module_version": "1.5.0",
            "_view_count": null,
            "_view_module_version": "1.2.0",
            "_model_module": "@jupyter-widgets/controls"
          }
        },
        "cc409459fdd2475f9abf4360264f8326": {
          "model_module": "@jupyter-widgets/base",
          "model_name": "LayoutModel",
          "model_module_version": "1.2.0",
          "state": {
            "_view_name": "LayoutView",
            "grid_template_rows": null,
            "right": null,
            "justify_content": null,
            "_view_module": "@jupyter-widgets/base",
            "overflow": null,
            "_model_module_version": "1.2.0",
            "_view_count": null,
            "flex_flow": null,
            "width": null,
            "min_width": null,
            "border": null,
            "align_items": null,
            "bottom": null,
            "_model_module": "@jupyter-widgets/base",
            "top": null,
            "grid_column": null,
            "overflow_y": null,
            "overflow_x": null,
            "grid_auto_flow": null,
            "grid_area": null,
            "grid_template_columns": null,
            "flex": null,
            "_model_name": "LayoutModel",
            "justify_items": null,
            "grid_row": null,
            "max_height": null,
            "align_content": null,
            "visibility": null,
            "align_self": null,
            "height": null,
            "min_height": null,
            "padding": null,
            "grid_auto_rows": null,
            "grid_gap": null,
            "max_width": null,
            "order": null,
            "_view_module_version": "1.2.0",
            "grid_template_areas": null,
            "object_position": null,
            "object_fit": null,
            "grid_auto_columns": null,
            "margin": null,
            "display": null,
            "left": null
          }
        },
        "7399b39667be4d6f87792ae38aab2100": {
          "model_module": "@jupyter-widgets/controls",
          "model_name": "ProgressStyleModel",
          "model_module_version": "1.5.0",
          "state": {
            "_view_name": "StyleView",
            "_model_name": "ProgressStyleModel",
            "description_width": "",
            "_view_module": "@jupyter-widgets/base",
            "_model_module_version": "1.5.0",
            "_view_count": null,
            "_view_module_version": "1.2.0",
            "bar_color": null,
            "_model_module": "@jupyter-widgets/controls"
          }
        },
        "514e00211a194c70ad8f3c8052206599": {
          "model_module": "@jupyter-widgets/base",
          "model_name": "LayoutModel",
          "model_module_version": "1.2.0",
          "state": {
            "_view_name": "LayoutView",
            "grid_template_rows": null,
            "right": null,
            "justify_content": null,
            "_view_module": "@jupyter-widgets/base",
            "overflow": null,
            "_model_module_version": "1.2.0",
            "_view_count": null,
            "flex_flow": null,
            "width": null,
            "min_width": null,
            "border": null,
            "align_items": null,
            "bottom": null,
            "_model_module": "@jupyter-widgets/base",
            "top": null,
            "grid_column": null,
            "overflow_y": null,
            "overflow_x": null,
            "grid_auto_flow": null,
            "grid_area": null,
            "grid_template_columns": null,
            "flex": null,
            "_model_name": "LayoutModel",
            "justify_items": null,
            "grid_row": null,
            "max_height": null,
            "align_content": null,
            "visibility": null,
            "align_self": null,
            "height": null,
            "min_height": null,
            "padding": null,
            "grid_auto_rows": null,
            "grid_gap": null,
            "max_width": null,
            "order": null,
            "_view_module_version": "1.2.0",
            "grid_template_areas": null,
            "object_position": null,
            "object_fit": null,
            "grid_auto_columns": null,
            "margin": null,
            "display": null,
            "left": null
          }
        },
        "607b67e687b44b39848e96df36e2ccdb": {
          "model_module": "@jupyter-widgets/controls",
          "model_name": "DescriptionStyleModel",
          "model_module_version": "1.5.0",
          "state": {
            "_view_name": "StyleView",
            "_model_name": "DescriptionStyleModel",
            "description_width": "",
            "_view_module": "@jupyter-widgets/base",
            "_model_module_version": "1.5.0",
            "_view_count": null,
            "_view_module_version": "1.2.0",
            "_model_module": "@jupyter-widgets/controls"
          }
        },
        "4e690334d5e644b6afc24cc20739eb38": {
          "model_module": "@jupyter-widgets/base",
          "model_name": "LayoutModel",
          "model_module_version": "1.2.0",
          "state": {
            "_view_name": "LayoutView",
            "grid_template_rows": null,
            "right": null,
            "justify_content": null,
            "_view_module": "@jupyter-widgets/base",
            "overflow": null,
            "_model_module_version": "1.2.0",
            "_view_count": null,
            "flex_flow": null,
            "width": null,
            "min_width": null,
            "border": null,
            "align_items": null,
            "bottom": null,
            "_model_module": "@jupyter-widgets/base",
            "top": null,
            "grid_column": null,
            "overflow_y": null,
            "overflow_x": null,
            "grid_auto_flow": null,
            "grid_area": null,
            "grid_template_columns": null,
            "flex": null,
            "_model_name": "LayoutModel",
            "justify_items": null,
            "grid_row": null,
            "max_height": null,
            "align_content": null,
            "visibility": null,
            "align_self": null,
            "height": null,
            "min_height": null,
            "padding": null,
            "grid_auto_rows": null,
            "grid_gap": null,
            "max_width": null,
            "order": null,
            "_view_module_version": "1.2.0",
            "grid_template_areas": null,
            "object_position": null,
            "object_fit": null,
            "grid_auto_columns": null,
            "margin": null,
            "display": null,
            "left": null
          }
        },
        "924593b4756c4661a3ea1b9e71a6d3c7": {
          "model_module": "@jupyter-widgets/controls",
          "model_name": "HBoxModel",
          "model_module_version": "1.5.0",
          "state": {
            "_view_name": "HBoxView",
            "_dom_classes": [],
            "_model_name": "HBoxModel",
            "_view_module": "@jupyter-widgets/controls",
            "_model_module_version": "1.5.0",
            "_view_count": null,
            "_view_module_version": "1.5.0",
            "box_style": "",
            "layout": "IPY_MODEL_8ec84dd5cd86412c8d664191bccfc4d4",
            "_model_module": "@jupyter-widgets/controls",
            "children": [
              "IPY_MODEL_2be606565cce486f92aa6887c3dad8bb",
              "IPY_MODEL_c5fe5753f10c4a9dab3741f2de00f0fc",
              "IPY_MODEL_ff5b3254e7fe44b0abefa8def754dd67"
            ]
          }
        },
        "8ec84dd5cd86412c8d664191bccfc4d4": {
          "model_module": "@jupyter-widgets/base",
          "model_name": "LayoutModel",
          "model_module_version": "1.2.0",
          "state": {
            "_view_name": "LayoutView",
            "grid_template_rows": null,
            "right": null,
            "justify_content": null,
            "_view_module": "@jupyter-widgets/base",
            "overflow": null,
            "_model_module_version": "1.2.0",
            "_view_count": null,
            "flex_flow": null,
            "width": null,
            "min_width": null,
            "border": null,
            "align_items": null,
            "bottom": null,
            "_model_module": "@jupyter-widgets/base",
            "top": null,
            "grid_column": null,
            "overflow_y": null,
            "overflow_x": null,
            "grid_auto_flow": null,
            "grid_area": null,
            "grid_template_columns": null,
            "flex": null,
            "_model_name": "LayoutModel",
            "justify_items": null,
            "grid_row": null,
            "max_height": null,
            "align_content": null,
            "visibility": null,
            "align_self": null,
            "height": null,
            "min_height": null,
            "padding": null,
            "grid_auto_rows": null,
            "grid_gap": null,
            "max_width": null,
            "order": null,
            "_view_module_version": "1.2.0",
            "grid_template_areas": null,
            "object_position": null,
            "object_fit": null,
            "grid_auto_columns": null,
            "margin": null,
            "display": null,
            "left": null
          }
        },
        "2be606565cce486f92aa6887c3dad8bb": {
          "model_module": "@jupyter-widgets/controls",
          "model_name": "HTMLModel",
          "model_module_version": "1.5.0",
          "state": {
            "_view_name": "HTMLView",
            "style": "IPY_MODEL_a8642952ceff42dabf7fcf8debac1e01",
            "_dom_classes": [],
            "description": "",
            "_model_name": "HTMLModel",
            "placeholder": "​",
            "_view_module": "@jupyter-widgets/controls",
            "_model_module_version": "1.5.0",
            "value": "Downloading: 100%",
            "_view_count": null,
            "_view_module_version": "1.5.0",
            "description_tooltip": null,
            "_model_module": "@jupyter-widgets/controls",
            "layout": "IPY_MODEL_47bd41ea5a274789bb08c53d23e73795"
          }
        },
        "c5fe5753f10c4a9dab3741f2de00f0fc": {
          "model_module": "@jupyter-widgets/controls",
          "model_name": "FloatProgressModel",
          "model_module_version": "1.5.0",
          "state": {
            "_view_name": "ProgressView",
            "style": "IPY_MODEL_7c74a6b6afb54071b78f7358f233fe34",
            "_dom_classes": [],
            "description": "",
            "_model_name": "FloatProgressModel",
            "bar_style": "success",
            "max": 467042463,
            "_view_module": "@jupyter-widgets/controls",
            "_model_module_version": "1.5.0",
            "value": 467042463,
            "_view_count": null,
            "_view_module_version": "1.5.0",
            "orientation": "horizontal",
            "min": 0,
            "description_tooltip": null,
            "_model_module": "@jupyter-widgets/controls",
            "layout": "IPY_MODEL_1b999c1ad5ce455d8370f3bc2842d866"
          }
        },
        "ff5b3254e7fe44b0abefa8def754dd67": {
          "model_module": "@jupyter-widgets/controls",
          "model_name": "HTMLModel",
          "model_module_version": "1.5.0",
          "state": {
            "_view_name": "HTMLView",
            "style": "IPY_MODEL_46ef7900db3f449fa99def53fea8eace",
            "_dom_classes": [],
            "description": "",
            "_model_name": "HTMLModel",
            "placeholder": "​",
            "_view_module": "@jupyter-widgets/controls",
            "_model_module_version": "1.5.0",
            "value": " 445M/445M [00:08&lt;00:00, 56.1MB/s]",
            "_view_count": null,
            "_view_module_version": "1.5.0",
            "description_tooltip": null,
            "_model_module": "@jupyter-widgets/controls",
            "layout": "IPY_MODEL_8c16a90a494040b5ab54191dacf547b4"
          }
        },
        "a8642952ceff42dabf7fcf8debac1e01": {
          "model_module": "@jupyter-widgets/controls",
          "model_name": "DescriptionStyleModel",
          "model_module_version": "1.5.0",
          "state": {
            "_view_name": "StyleView",
            "_model_name": "DescriptionStyleModel",
            "description_width": "",
            "_view_module": "@jupyter-widgets/base",
            "_model_module_version": "1.5.0",
            "_view_count": null,
            "_view_module_version": "1.2.0",
            "_model_module": "@jupyter-widgets/controls"
          }
        },
        "47bd41ea5a274789bb08c53d23e73795": {
          "model_module": "@jupyter-widgets/base",
          "model_name": "LayoutModel",
          "model_module_version": "1.2.0",
          "state": {
            "_view_name": "LayoutView",
            "grid_template_rows": null,
            "right": null,
            "justify_content": null,
            "_view_module": "@jupyter-widgets/base",
            "overflow": null,
            "_model_module_version": "1.2.0",
            "_view_count": null,
            "flex_flow": null,
            "width": null,
            "min_width": null,
            "border": null,
            "align_items": null,
            "bottom": null,
            "_model_module": "@jupyter-widgets/base",
            "top": null,
            "grid_column": null,
            "overflow_y": null,
            "overflow_x": null,
            "grid_auto_flow": null,
            "grid_area": null,
            "grid_template_columns": null,
            "flex": null,
            "_model_name": "LayoutModel",
            "justify_items": null,
            "grid_row": null,
            "max_height": null,
            "align_content": null,
            "visibility": null,
            "align_self": null,
            "height": null,
            "min_height": null,
            "padding": null,
            "grid_auto_rows": null,
            "grid_gap": null,
            "max_width": null,
            "order": null,
            "_view_module_version": "1.2.0",
            "grid_template_areas": null,
            "object_position": null,
            "object_fit": null,
            "grid_auto_columns": null,
            "margin": null,
            "display": null,
            "left": null
          }
        },
        "7c74a6b6afb54071b78f7358f233fe34": {
          "model_module": "@jupyter-widgets/controls",
          "model_name": "ProgressStyleModel",
          "model_module_version": "1.5.0",
          "state": {
            "_view_name": "StyleView",
            "_model_name": "ProgressStyleModel",
            "description_width": "",
            "_view_module": "@jupyter-widgets/base",
            "_model_module_version": "1.5.0",
            "_view_count": null,
            "_view_module_version": "1.2.0",
            "bar_color": null,
            "_model_module": "@jupyter-widgets/controls"
          }
        },
        "1b999c1ad5ce455d8370f3bc2842d866": {
          "model_module": "@jupyter-widgets/base",
          "model_name": "LayoutModel",
          "model_module_version": "1.2.0",
          "state": {
            "_view_name": "LayoutView",
            "grid_template_rows": null,
            "right": null,
            "justify_content": null,
            "_view_module": "@jupyter-widgets/base",
            "overflow": null,
            "_model_module_version": "1.2.0",
            "_view_count": null,
            "flex_flow": null,
            "width": null,
            "min_width": null,
            "border": null,
            "align_items": null,
            "bottom": null,
            "_model_module": "@jupyter-widgets/base",
            "top": null,
            "grid_column": null,
            "overflow_y": null,
            "overflow_x": null,
            "grid_auto_flow": null,
            "grid_area": null,
            "grid_template_columns": null,
            "flex": null,
            "_model_name": "LayoutModel",
            "justify_items": null,
            "grid_row": null,
            "max_height": null,
            "align_content": null,
            "visibility": null,
            "align_self": null,
            "height": null,
            "min_height": null,
            "padding": null,
            "grid_auto_rows": null,
            "grid_gap": null,
            "max_width": null,
            "order": null,
            "_view_module_version": "1.2.0",
            "grid_template_areas": null,
            "object_position": null,
            "object_fit": null,
            "grid_auto_columns": null,
            "margin": null,
            "display": null,
            "left": null
          }
        },
        "46ef7900db3f449fa99def53fea8eace": {
          "model_module": "@jupyter-widgets/controls",
          "model_name": "DescriptionStyleModel",
          "model_module_version": "1.5.0",
          "state": {
            "_view_name": "StyleView",
            "_model_name": "DescriptionStyleModel",
            "description_width": "",
            "_view_module": "@jupyter-widgets/base",
            "_model_module_version": "1.5.0",
            "_view_count": null,
            "_view_module_version": "1.2.0",
            "_model_module": "@jupyter-widgets/controls"
          }
        },
        "8c16a90a494040b5ab54191dacf547b4": {
          "model_module": "@jupyter-widgets/base",
          "model_name": "LayoutModel",
          "model_module_version": "1.2.0",
          "state": {
            "_view_name": "LayoutView",
            "grid_template_rows": null,
            "right": null,
            "justify_content": null,
            "_view_module": "@jupyter-widgets/base",
            "overflow": null,
            "_model_module_version": "1.2.0",
            "_view_count": null,
            "flex_flow": null,
            "width": null,
            "min_width": null,
            "border": null,
            "align_items": null,
            "bottom": null,
            "_model_module": "@jupyter-widgets/base",
            "top": null,
            "grid_column": null,
            "overflow_y": null,
            "overflow_x": null,
            "grid_auto_flow": null,
            "grid_area": null,
            "grid_template_columns": null,
            "flex": null,
            "_model_name": "LayoutModel",
            "justify_items": null,
            "grid_row": null,
            "max_height": null,
            "align_content": null,
            "visibility": null,
            "align_self": null,
            "height": null,
            "min_height": null,
            "padding": null,
            "grid_auto_rows": null,
            "grid_gap": null,
            "max_width": null,
            "order": null,
            "_view_module_version": "1.2.0",
            "grid_template_areas": null,
            "object_position": null,
            "object_fit": null,
            "grid_auto_columns": null,
            "margin": null,
            "display": null,
            "left": null
          }
        }
      }
    }
  },
  "cells": [
    {
      "cell_type": "markdown",
      "metadata": {
        "id": "view-in-github",
        "colab_type": "text"
      },
      "source": [
        "<a href=\"https://colab.research.google.com/github/DinhNgocVan/NLP_XLNet_Final_Project/blob/main/XLNet_Implementation.ipynb\" target=\"_parent\"><img src=\"https://colab.research.google.com/assets/colab-badge.svg\" alt=\"Open In Colab\"/></a>"
      ]
    },
    {
      "cell_type": "markdown",
      "source": [
        "# Introduction\n",
        "This is the implementation of me to XLNet paper. The summary of XLNet is in the report, so in here just show implementation part in details. \n",
        "I use Huggingface library for implementing transfomers and use it to get the model I need."
      ],
      "metadata": {
        "id": "30NBOSul7nOC"
      }
    },
    {
      "cell_type": "markdown",
      "source": [
        "# Data"
      ],
      "metadata": {
        "id": "5IkV2QxVfrqU"
      }
    },
    {
      "cell_type": "markdown",
      "source": [
        "I used my drive to save all of the dataset. I use **Bag of Words Meets Bags of Popcorn dataset** from Kaggle(link: https://www.kaggle.com/c/word2vec-nlp-tutorial/data) to show up and then extract, and move them to my drive.\n",
        "Another way to get the dataset is download it to local computer and upload it with `uploaded = files.upload()`. But drive is more convenient to me.\n"
      ],
      "metadata": {
        "id": "yn1sN7_aeSM8"
      }
    },
    {
      "cell_type": "code",
      "execution_count": 9,
      "metadata": {
        "id": "rHm8DIYaQsO_",
        "colab": {
          "base_uri": "https://localhost:8080/"
        },
        "outputId": "59c5279b-0149-474b-8ea9-f6dfe36ac947"
      },
      "outputs": [
        {
          "output_type": "stream",
          "name": "stdout",
          "text": [
            "Drive already mounted at /content/drive; to attempt to forcibly remount, call drive.mount(\"/content/drive\", force_remount=True).\n"
          ]
        }
      ],
      "source": [
        "#Connect with drive folder and determine the important path to go with.\n",
        "from google.colab import drive\n",
        "drive.mount('/content/drive')\n",
        "folder_path='/content/drive/My Drive/xlnett'\n",
        "data_path='/content/drive/My Drive/xlnett/Data'"
      ]
    },
    {
      "cell_type": "markdown",
      "source": [
        "# Install and Import"
      ],
      "metadata": {
        "id": "fYWz97Fngbx6"
      }
    },
    {
      "cell_type": "markdown",
      "source": [
        "I install the libraries, especially transfomers one I need. "
      ],
      "metadata": {
        "id": "bUUb_eQZ8dQB"
      }
    },
    {
      "cell_type": "code",
      "source": [
        "!pip install pytorch-transformers\n",
        "!pip install transformers"
      ],
      "metadata": {
        "id": "OUJEpEJXQyEB",
        "colab": {
          "base_uri": "https://localhost:8080/"
        },
        "outputId": "c4f3560a-c70e-4a75-bef0-6bc5341ad2c2"
      },
      "execution_count": 2,
      "outputs": [
        {
          "output_type": "stream",
          "name": "stdout",
          "text": [
            "Collecting pytorch-transformers\n",
            "  Downloading pytorch_transformers-1.2.0-py3-none-any.whl (176 kB)\n",
            "\u001b[?25l\r\u001b[K     |█▉                              | 10 kB 33.2 MB/s eta 0:00:01\r\u001b[K     |███▊                            | 20 kB 22.3 MB/s eta 0:00:01\r\u001b[K     |█████▋                          | 30 kB 16.6 MB/s eta 0:00:01\r\u001b[K     |███████▍                        | 40 kB 15.6 MB/s eta 0:00:01\r\u001b[K     |█████████▎                      | 51 kB 8.9 MB/s eta 0:00:01\r\u001b[K     |███████████▏                    | 61 kB 10.3 MB/s eta 0:00:01\r\u001b[K     |█████████████                   | 71 kB 9.5 MB/s eta 0:00:01\r\u001b[K     |██████████████▉                 | 81 kB 10.5 MB/s eta 0:00:01\r\u001b[K     |████████████████▊               | 92 kB 10.8 MB/s eta 0:00:01\r\u001b[K     |██████████████████▋             | 102 kB 8.6 MB/s eta 0:00:01\r\u001b[K     |████████████████████▍           | 112 kB 8.6 MB/s eta 0:00:01\r\u001b[K     |██████████████████████▎         | 122 kB 8.6 MB/s eta 0:00:01\r\u001b[K     |████████████████████████▏       | 133 kB 8.6 MB/s eta 0:00:01\r\u001b[K     |██████████████████████████      | 143 kB 8.6 MB/s eta 0:00:01\r\u001b[K     |███████████████████████████▉    | 153 kB 8.6 MB/s eta 0:00:01\r\u001b[K     |█████████████████████████████▊  | 163 kB 8.6 MB/s eta 0:00:01\r\u001b[K     |███████████████████████████████▋| 174 kB 8.6 MB/s eta 0:00:01\r\u001b[K     |████████████████████████████████| 176 kB 8.6 MB/s \n",
            "\u001b[?25hRequirement already satisfied: torch>=1.0.0 in /usr/local/lib/python3.7/dist-packages (from pytorch-transformers) (1.10.0+cu111)\n",
            "Collecting sacremoses\n",
            "  Downloading sacremoses-0.0.47-py2.py3-none-any.whl (895 kB)\n",
            "\u001b[K     |████████████████████████████████| 895 kB 73.8 MB/s \n",
            "\u001b[?25hRequirement already satisfied: requests in /usr/local/lib/python3.7/dist-packages (from pytorch-transformers) (2.23.0)\n",
            "Requirement already satisfied: regex in /usr/local/lib/python3.7/dist-packages (from pytorch-transformers) (2019.12.20)\n",
            "Collecting sentencepiece\n",
            "  Downloading sentencepiece-0.1.96-cp37-cp37m-manylinux_2_17_x86_64.manylinux2014_x86_64.whl (1.2 MB)\n",
            "\u001b[K     |████████████████████████████████| 1.2 MB 56.0 MB/s \n",
            "\u001b[?25hCollecting boto3\n",
            "  Downloading boto3-1.20.35-py3-none-any.whl (131 kB)\n",
            "\u001b[K     |████████████████████████████████| 131 kB 72.7 MB/s \n",
            "\u001b[?25hRequirement already satisfied: tqdm in /usr/local/lib/python3.7/dist-packages (from pytorch-transformers) (4.62.3)\n",
            "Requirement already satisfied: numpy in /usr/local/lib/python3.7/dist-packages (from pytorch-transformers) (1.19.5)\n",
            "Requirement already satisfied: typing-extensions in /usr/local/lib/python3.7/dist-packages (from torch>=1.0.0->pytorch-transformers) (3.10.0.2)\n",
            "Collecting botocore<1.24.0,>=1.23.35\n",
            "  Downloading botocore-1.23.35-py3-none-any.whl (8.5 MB)\n",
            "\u001b[K     |████████████████████████████████| 8.5 MB 31.5 MB/s \n",
            "\u001b[?25hCollecting s3transfer<0.6.0,>=0.5.0\n",
            "  Downloading s3transfer-0.5.0-py3-none-any.whl (79 kB)\n",
            "\u001b[K     |████████████████████████████████| 79 kB 10.6 MB/s \n",
            "\u001b[?25hCollecting jmespath<1.0.0,>=0.7.1\n",
            "  Downloading jmespath-0.10.0-py2.py3-none-any.whl (24 kB)\n",
            "Collecting urllib3<1.27,>=1.25.4\n",
            "  Downloading urllib3-1.26.8-py2.py3-none-any.whl (138 kB)\n",
            "\u001b[K     |████████████████████████████████| 138 kB 52.4 MB/s \n",
            "\u001b[?25hRequirement already satisfied: python-dateutil<3.0.0,>=2.1 in /usr/local/lib/python3.7/dist-packages (from botocore<1.24.0,>=1.23.35->boto3->pytorch-transformers) (2.8.2)\n",
            "Requirement already satisfied: six>=1.5 in /usr/local/lib/python3.7/dist-packages (from python-dateutil<3.0.0,>=2.1->botocore<1.24.0,>=1.23.35->boto3->pytorch-transformers) (1.15.0)\n",
            "Requirement already satisfied: certifi>=2017.4.17 in /usr/local/lib/python3.7/dist-packages (from requests->pytorch-transformers) (2021.10.8)\n",
            "Requirement already satisfied: chardet<4,>=3.0.2 in /usr/local/lib/python3.7/dist-packages (from requests->pytorch-transformers) (3.0.4)\n",
            "Requirement already satisfied: idna<3,>=2.5 in /usr/local/lib/python3.7/dist-packages (from requests->pytorch-transformers) (2.10)\n",
            "  Downloading urllib3-1.25.11-py2.py3-none-any.whl (127 kB)\n",
            "\u001b[K     |████████████████████████████████| 127 kB 83.4 MB/s \n",
            "\u001b[?25hRequirement already satisfied: click in /usr/local/lib/python3.7/dist-packages (from sacremoses->pytorch-transformers) (7.1.2)\n",
            "Requirement already satisfied: joblib in /usr/local/lib/python3.7/dist-packages (from sacremoses->pytorch-transformers) (1.1.0)\n",
            "Installing collected packages: urllib3, jmespath, botocore, s3transfer, sentencepiece, sacremoses, boto3, pytorch-transformers\n",
            "  Attempting uninstall: urllib3\n",
            "    Found existing installation: urllib3 1.24.3\n",
            "    Uninstalling urllib3-1.24.3:\n",
            "      Successfully uninstalled urllib3-1.24.3\n",
            "\u001b[31mERROR: pip's dependency resolver does not currently take into account all the packages that are installed. This behaviour is the source of the following dependency conflicts.\n",
            "datascience 0.10.6 requires folium==0.2.1, but you have folium 0.8.3 which is incompatible.\u001b[0m\n",
            "Successfully installed boto3-1.20.35 botocore-1.23.35 jmespath-0.10.0 pytorch-transformers-1.2.0 s3transfer-0.5.0 sacremoses-0.0.47 sentencepiece-0.1.96 urllib3-1.25.11\n",
            "Collecting transformers\n",
            "  Downloading transformers-4.15.0-py3-none-any.whl (3.4 MB)\n",
            "\u001b[K     |████████████████████████████████| 3.4 MB 7.6 MB/s \n",
            "\u001b[?25hRequirement already satisfied: regex!=2019.12.17 in /usr/local/lib/python3.7/dist-packages (from transformers) (2019.12.20)\n",
            "Requirement already satisfied: numpy>=1.17 in /usr/local/lib/python3.7/dist-packages (from transformers) (1.19.5)\n",
            "Requirement already satisfied: filelock in /usr/local/lib/python3.7/dist-packages (from transformers) (3.4.2)\n",
            "Collecting pyyaml>=5.1\n",
            "  Downloading PyYAML-6.0-cp37-cp37m-manylinux_2_5_x86_64.manylinux1_x86_64.manylinux_2_12_x86_64.manylinux2010_x86_64.whl (596 kB)\n",
            "\u001b[K     |████████████████████████████████| 596 kB 65.6 MB/s \n",
            "\u001b[?25hRequirement already satisfied: packaging>=20.0 in /usr/local/lib/python3.7/dist-packages (from transformers) (21.3)\n",
            "Collecting tokenizers<0.11,>=0.10.1\n",
            "  Downloading tokenizers-0.10.3-cp37-cp37m-manylinux_2_5_x86_64.manylinux1_x86_64.manylinux_2_12_x86_64.manylinux2010_x86_64.whl (3.3 MB)\n",
            "\u001b[K     |████████████████████████████████| 3.3 MB 56.2 MB/s \n",
            "\u001b[?25hRequirement already satisfied: importlib-metadata in /usr/local/lib/python3.7/dist-packages (from transformers) (4.10.0)\n",
            "Requirement already satisfied: tqdm>=4.27 in /usr/local/lib/python3.7/dist-packages (from transformers) (4.62.3)\n",
            "Requirement already satisfied: requests in /usr/local/lib/python3.7/dist-packages (from transformers) (2.23.0)\n",
            "Collecting huggingface-hub<1.0,>=0.1.0\n",
            "  Downloading huggingface_hub-0.4.0-py3-none-any.whl (67 kB)\n",
            "\u001b[K     |████████████████████████████████| 67 kB 7.3 MB/s \n",
            "\u001b[?25hRequirement already satisfied: sacremoses in /usr/local/lib/python3.7/dist-packages (from transformers) (0.0.47)\n",
            "Requirement already satisfied: typing-extensions>=3.7.4.3 in /usr/local/lib/python3.7/dist-packages (from huggingface-hub<1.0,>=0.1.0->transformers) (3.10.0.2)\n",
            "Requirement already satisfied: pyparsing!=3.0.5,>=2.0.2 in /usr/local/lib/python3.7/dist-packages (from packaging>=20.0->transformers) (3.0.6)\n",
            "Requirement already satisfied: zipp>=0.5 in /usr/local/lib/python3.7/dist-packages (from importlib-metadata->transformers) (3.7.0)\n",
            "Requirement already satisfied: idna<3,>=2.5 in /usr/local/lib/python3.7/dist-packages (from requests->transformers) (2.10)\n",
            "Requirement already satisfied: chardet<4,>=3.0.2 in /usr/local/lib/python3.7/dist-packages (from requests->transformers) (3.0.4)\n",
            "Requirement already satisfied: urllib3!=1.25.0,!=1.25.1,<1.26,>=1.21.1 in /usr/local/lib/python3.7/dist-packages (from requests->transformers) (1.25.11)\n",
            "Requirement already satisfied: certifi>=2017.4.17 in /usr/local/lib/python3.7/dist-packages (from requests->transformers) (2021.10.8)\n",
            "Requirement already satisfied: joblib in /usr/local/lib/python3.7/dist-packages (from sacremoses->transformers) (1.1.0)\n",
            "Requirement already satisfied: click in /usr/local/lib/python3.7/dist-packages (from sacremoses->transformers) (7.1.2)\n",
            "Requirement already satisfied: six in /usr/local/lib/python3.7/dist-packages (from sacremoses->transformers) (1.15.0)\n",
            "Installing collected packages: pyyaml, tokenizers, huggingface-hub, transformers\n",
            "  Attempting uninstall: pyyaml\n",
            "    Found existing installation: PyYAML 3.13\n",
            "    Uninstalling PyYAML-3.13:\n",
            "      Successfully uninstalled PyYAML-3.13\n",
            "Successfully installed huggingface-hub-0.4.0 pyyaml-6.0 tokenizers-0.10.3 transformers-4.15.0\n"
          ]
        }
      ]
    },
    {
      "cell_type": "markdown",
      "source": [
        "I import all the libraries I need down there.\n",
        "The most important library are **XLNetTokenizer** and **XLNetSequenceClassification** to construct the tokenizer and model later on."
      ],
      "metadata": {
        "id": "epqZ8EHX9lLV"
      }
    },
    {
      "cell_type": "code",
      "source": [
        "import torch\n",
        "import torch.nn as nn\n",
        "from torch.utils.data import TensorDataset, DataLoader, RandomSampler, SequentialSampler\n",
        "from keras.preprocessing.sequence import pad_sequences\n",
        "from sklearn.model_selection import train_test_split\n",
        "\n",
        "from transformers import XLNetModel, XLNetTokenizer, XLNetForSequenceClassification\n",
        "from pytorch_transformers import AdamW\n",
        "\n",
        "import torch.optim as optim\n",
        "\n",
        "import pandas as pd\n",
        "import io\n",
        "import numpy as np\n",
        "import matplotlib.pyplot as plt\n",
        "\n",
        "from sklearn.metrics import accuracy_score\n",
        "import seaborn as sns\n",
        "from datetime import datetime\n",
        "\n",
        "% matplotlib inline"
      ],
      "metadata": {
        "id": "0_5tlAQiROaL"
      },
      "execution_count": 6,
      "outputs": []
    },
    {
      "cell_type": "code",
      "source": [
        "device = torch.device('cuda:0' if torch.cuda.is_available() else 'cpu')\n",
        "print(device)"
      ],
      "metadata": {
        "colab": {
          "base_uri": "https://localhost:8080/"
        },
        "id": "Fi2RkSZeVIWc",
        "outputId": "bdfb038d-8b2f-43c7-9fed-bc7f009d4b1d"
      },
      "execution_count": 7,
      "outputs": [
        {
          "output_type": "stream",
          "name": "stdout",
          "text": [
            "cuda:0\n"
          ]
        }
      ]
    },
    {
      "cell_type": "markdown",
      "source": [
        "# Preprocessing and prepare data\n",
        "**Bag of Words Meets Bags of Popcorn** dataset includes **'.tsv' files**, it is the same format with datasets in **GLUE** like CoLA so that I just have to change the dataset, model to fit with the dataset and some small details. But if use the different format have to convert the format. "
      ],
      "metadata": {
        "id": "rsY7q_nQh4dn"
      }
    },
    {
      "cell_type": "code",
      "source": [
        "df = pd.read_csv(\"/content/drive/My Drive/xlnett/Data/labeledTrainData.tsv\", delimiter='\\t')"
      ],
      "metadata": {
        "id": "MKLKPkdgSIob"
      },
      "execution_count": 10,
      "outputs": []
    },
    {
      "cell_type": "markdown",
      "source": [
        "See table of 5 random example"
      ],
      "metadata": {
        "id": "QzPWY80K-tJy"
      }
    },
    {
      "cell_type": "code",
      "source": [
        "df.sample(5)"
      ],
      "metadata": {
        "id": "EB5IIfabSLW-",
        "colab": {
          "base_uri": "https://localhost:8080/",
          "height": 206
        },
        "outputId": "8caa3ebd-3102-46b8-b450-19bb41b8545c"
      },
      "execution_count": 11,
      "outputs": [
        {
          "output_type": "execute_result",
          "data": {
            "text/html": [
              "\n",
              "  <div id=\"df-c7341745-f910-4662-b882-04d68e3af36f\">\n",
              "    <div class=\"colab-df-container\">\n",
              "      <div>\n",
              "<style scoped>\n",
              "    .dataframe tbody tr th:only-of-type {\n",
              "        vertical-align: middle;\n",
              "    }\n",
              "\n",
              "    .dataframe tbody tr th {\n",
              "        vertical-align: top;\n",
              "    }\n",
              "\n",
              "    .dataframe thead th {\n",
              "        text-align: right;\n",
              "    }\n",
              "</style>\n",
              "<table border=\"1\" class=\"dataframe\">\n",
              "  <thead>\n",
              "    <tr style=\"text-align: right;\">\n",
              "      <th></th>\n",
              "      <th>id</th>\n",
              "      <th>sentiment</th>\n",
              "      <th>review</th>\n",
              "    </tr>\n",
              "  </thead>\n",
              "  <tbody>\n",
              "    <tr>\n",
              "      <th>5524</th>\n",
              "      <td>9658_7</td>\n",
              "      <td>1</td>\n",
              "      <td>\\Come Undone\\\" appears to elicit a lot of opin...</td>\n",
              "    </tr>\n",
              "    <tr>\n",
              "      <th>13024</th>\n",
              "      <td>8017_9</td>\n",
              "      <td>1</td>\n",
              "      <td>stars: Julianna Donald, Lonny Price and Louis ...</td>\n",
              "    </tr>\n",
              "    <tr>\n",
              "      <th>8434</th>\n",
              "      <td>6642_1</td>\n",
              "      <td>0</td>\n",
              "      <td>this movie begins with an ordinary funeral... ...</td>\n",
              "    </tr>\n",
              "    <tr>\n",
              "      <th>5786</th>\n",
              "      <td>11791_4</td>\n",
              "      <td>0</td>\n",
              "      <td>I don't get this. The movie obviously has a pr...</td>\n",
              "    </tr>\n",
              "    <tr>\n",
              "      <th>12309</th>\n",
              "      <td>4042_1</td>\n",
              "      <td>0</td>\n",
              "      <td>This film is beautiful to look at, but is like...</td>\n",
              "    </tr>\n",
              "  </tbody>\n",
              "</table>\n",
              "</div>\n",
              "      <button class=\"colab-df-convert\" onclick=\"convertToInteractive('df-c7341745-f910-4662-b882-04d68e3af36f')\"\n",
              "              title=\"Convert this dataframe to an interactive table.\"\n",
              "              style=\"display:none;\">\n",
              "        \n",
              "  <svg xmlns=\"http://www.w3.org/2000/svg\" height=\"24px\"viewBox=\"0 0 24 24\"\n",
              "       width=\"24px\">\n",
              "    <path d=\"M0 0h24v24H0V0z\" fill=\"none\"/>\n",
              "    <path d=\"M18.56 5.44l.94 2.06.94-2.06 2.06-.94-2.06-.94-.94-2.06-.94 2.06-2.06.94zm-11 1L8.5 8.5l.94-2.06 2.06-.94-2.06-.94L8.5 2.5l-.94 2.06-2.06.94zm10 10l.94 2.06.94-2.06 2.06-.94-2.06-.94-.94-2.06-.94 2.06-2.06.94z\"/><path d=\"M17.41 7.96l-1.37-1.37c-.4-.4-.92-.59-1.43-.59-.52 0-1.04.2-1.43.59L10.3 9.45l-7.72 7.72c-.78.78-.78 2.05 0 2.83L4 21.41c.39.39.9.59 1.41.59.51 0 1.02-.2 1.41-.59l7.78-7.78 2.81-2.81c.8-.78.8-2.07 0-2.86zM5.41 20L4 18.59l7.72-7.72 1.47 1.35L5.41 20z\"/>\n",
              "  </svg>\n",
              "      </button>\n",
              "      \n",
              "  <style>\n",
              "    .colab-df-container {\n",
              "      display:flex;\n",
              "      flex-wrap:wrap;\n",
              "      gap: 12px;\n",
              "    }\n",
              "\n",
              "    .colab-df-convert {\n",
              "      background-color: #E8F0FE;\n",
              "      border: none;\n",
              "      border-radius: 50%;\n",
              "      cursor: pointer;\n",
              "      display: none;\n",
              "      fill: #1967D2;\n",
              "      height: 32px;\n",
              "      padding: 0 0 0 0;\n",
              "      width: 32px;\n",
              "    }\n",
              "\n",
              "    .colab-df-convert:hover {\n",
              "      background-color: #E2EBFA;\n",
              "      box-shadow: 0px 1px 2px rgba(60, 64, 67, 0.3), 0px 1px 3px 1px rgba(60, 64, 67, 0.15);\n",
              "      fill: #174EA6;\n",
              "    }\n",
              "\n",
              "    [theme=dark] .colab-df-convert {\n",
              "      background-color: #3B4455;\n",
              "      fill: #D2E3FC;\n",
              "    }\n",
              "\n",
              "    [theme=dark] .colab-df-convert:hover {\n",
              "      background-color: #434B5C;\n",
              "      box-shadow: 0px 1px 3px 1px rgba(0, 0, 0, 0.15);\n",
              "      filter: drop-shadow(0px 1px 2px rgba(0, 0, 0, 0.3));\n",
              "      fill: #FFFFFF;\n",
              "    }\n",
              "  </style>\n",
              "\n",
              "      <script>\n",
              "        const buttonEl =\n",
              "          document.querySelector('#df-c7341745-f910-4662-b882-04d68e3af36f button.colab-df-convert');\n",
              "        buttonEl.style.display =\n",
              "          google.colab.kernel.accessAllowed ? 'block' : 'none';\n",
              "\n",
              "        async function convertToInteractive(key) {\n",
              "          const element = document.querySelector('#df-c7341745-f910-4662-b882-04d68e3af36f');\n",
              "          const dataTable =\n",
              "            await google.colab.kernel.invokeFunction('convertToInteractive',\n",
              "                                                     [key], {});\n",
              "          if (!dataTable) return;\n",
              "\n",
              "          const docLinkHtml = 'Like what you see? Visit the ' +\n",
              "            '<a target=\"_blank\" href=https://colab.research.google.com/notebooks/data_table.ipynb>data table notebook</a>'\n",
              "            + ' to learn more about interactive tables.';\n",
              "          element.innerHTML = '';\n",
              "          dataTable['output_type'] = 'display_data';\n",
              "          await google.colab.output.renderOutput(dataTable, element);\n",
              "          const docLink = document.createElement('div');\n",
              "          docLink.innerHTML = docLinkHtml;\n",
              "          element.appendChild(docLink);\n",
              "        }\n",
              "      </script>\n",
              "    </div>\n",
              "  </div>\n",
              "  "
            ],
            "text/plain": [
              "            id  sentiment                                             review\n",
              "5524    9658_7          1  \\Come Undone\\\" appears to elicit a lot of opin...\n",
              "13024   8017_9          1  stars: Julianna Donald, Lonny Price and Louis ...\n",
              "8434    6642_1          0  this movie begins with an ordinary funeral... ...\n",
              "5786   11791_4          0  I don't get this. The movie obviously has a pr...\n",
              "12309   4042_1          0  This film is beautiful to look at, but is like..."
            ]
          },
          "metadata": {},
          "execution_count": 11
        }
      ]
    },
    {
      "cell_type": "markdown",
      "source": [
        "Create sentence list and see some of its value"
      ],
      "metadata": {
        "id": "lrD3JyQL--Gl"
      }
    },
    {
      "cell_type": "code",
      "source": [
        "sentences = df.review.values\n",
        "sentences"
      ],
      "metadata": {
        "colab": {
          "base_uri": "https://localhost:8080/"
        },
        "id": "9qw-HYPwSNf4",
        "outputId": "305512d8-6e3f-4844-d6f0-e002eb208e26"
      },
      "execution_count": null,
      "outputs": [
        {
          "output_type": "execute_result",
          "data": {
            "text/plain": [
              "array([\"With all this stuff going down at the moment with MJ i've started listening to his music, watching the odd documentary here and there, watched The Wiz and watched Moonwalker again. Maybe i just want to get a certain insight into this guy who i thought was really cool in the eighties just to maybe make up my mind whether he is guilty or innocent. Moonwalker is part biography, part feature film which i remember going to see at the cinema when it was originally released. Some of it has subtle messages about MJ's feeling towards the press and also the obvious message of drugs are bad m'kay.<br /><br />Visually impressive but of course this is all about Michael Jackson so unless you remotely like MJ in anyway then you are going to hate this and find it boring. Some may call MJ an egotist for consenting to the making of this movie BUT MJ and most of his fans would say that he made it for the fans which if true is really nice of him.<br /><br />The actual feature film bit when it finally starts is only on for 20 minutes or so excluding the Smooth Criminal sequence and Joe Pesci is convincing as a psychopathic all powerful drug lord. Why he wants MJ dead so bad is beyond me. Because MJ overheard his plans? Nah, Joe Pesci's character ranted that he wanted people to know it is he who is supplying drugs etc so i dunno, maybe he just hates MJ's music.<br /><br />Lots of cool things in this like MJ turning into a car and a robot and the whole Speed Demon sequence. Also, the director must have had the patience of a saint when it came to filming the kiddy Bad sequence as usually directors hate working with one kid let alone a whole bunch of them performing a complex dance scene.<br /><br />Bottom line, this movie is for people who like MJ on one level or another (which i think is most people). If not, then stay away. It does try and give off a wholesome message and ironically MJ's bestest buddy in this movie is a girl! Michael Jackson is truly one of the most talented people ever to grace this planet but is he guilty? Well, with all the attention i've gave this subject....hmmm well i don't know because people can be different behind closed doors, i know this for a fact. He is either an extremely nice but stupid guy or one of the most sickest liars. I hope he is not the latter.\",\n",
              "       '\\\\The Classic War of the Worlds\\\\\" by Timothy Hines is a very entertaining film that obviously goes to great effort and lengths to faithfully recreate H. G. Wells\\' classic book. Mr. Hines succeeds in doing so. I, and those who watched his film with me, appreciated the fact that it was not the standard, predictable Hollywood fare that comes out every year, e.g. the Spielberg version with Tom Cruise that had only the slightest resemblance to the book. Obviously, everyone looks for different things in a movie. Those who envision themselves as amateur \\\\\"critics\\\\\" look only to criticize everything they can. Others rate a movie on more important bases,like being entertained, which is why most people never agree with the \\\\\"critics\\\\\". We enjoyed the effort Mr. Hines put into being faithful to H.G. Wells\\' classic novel, and we found it to be very entertaining. This made it easy to overlook what the \\\\\"critics\\\\\" perceive to be its shortcomings.\"',\n",
              "       \"The film starts with a manager (Nicholas Bell) giving welcome investors (Robert Carradine) to Primal Park . A secret project mutating a primal animal using fossilized DNA, like ¨Jurassik Park¨, and some scientists resurrect one of nature's most fearsome predators, the Sabretooth tiger or Smilodon . Scientific ambition turns deadly, however, and when the high voltage fence is opened the creature escape and begins savagely stalking its prey - the human visitors , tourists and scientific.Meanwhile some youngsters enter in the restricted area of the security center and are attacked by a pack of large pre-historical animals which are deadlier and bigger . In addition , a security agent (Stacy Haiduk) and her mate (Brian Wimmer) fight hardly against the carnivorous Smilodons. The Sabretooths, themselves , of course, are the real star stars and they are astounding terrifyingly though not convincing. The giant animals savagely are stalking its prey and the group run afoul and fight against one nature's most fearsome predators. Furthermore a third Sabretooth more dangerous and slow stalks its victims.<br /><br />The movie delivers the goods with lots of blood and gore as beheading, hair-raising chills,full of scares when the Sabretooths appear with mediocre special effects.The story provides exciting and stirring entertainment but it results to be quite boring .The giant animals are majority made by computer generator and seem totally lousy .Middling performances though the players reacting appropriately to becoming food.Actors give vigorously physical performances dodging the beasts ,running,bound and leaps or dangling over walls . And it packs a ridiculous final deadly scene. No for small kids by realistic,gory and violent attack scenes . Other films about Sabretooths or Smilodon are the following : ¨Sabretooth(2002)¨by James R Hickox with Vanessa Angel, David Keith and John Rhys Davies and the much better ¨10.000 BC(2006)¨ by Roland Emmerich with with Steven Strait, Cliff Curtis and Camilla Belle. This motion picture filled with bloody moments is badly directed by George Miller and with no originality because takes too many elements from previous films. Miller is an Australian director usually working for television (Tidal wave, Journey to the center of the earth, and many others) and occasionally for cinema ( The man from Snowy river, Zeus and Roxanne,Robinson Crusoe ). Rating : Below average, bottom of barrel.\",\n",
              "       ...,\n",
              "       'Guy is a loser. Can\\'t get girls, needs to build up, is picked on by stronger more successful guys, etc. Seen it, saw it, moved on. I\\'d have to say that Rob needs to move past the Adam Sandler part of his life. And get out of the Adam Sandler plots. There are two funny parts in the whole movie. I couldn\\'t even finish the last 5 minutes. I was getting bored. \\\\The Animal\\\\\" is an alright film. I do usually enjoy Adam Sandler films that have the same plot. But this was trying too hard to impress. The jokes are very old. So, trust me. This is not a film that most people could really get into. But some did, so I\\'ll be nice.<br /><br />3/10\"',\n",
              "       \"This 30 minute documentary Buñuel made in the early 1930's about one of Spain's poorest regions is, in my opinion, one of his weakest films. First, let's admit that 70 years later, Spain is much richer than it was then (and when I say this, I fully admit that wealth can bring problems of its own, like excessive individualism and consumerism, though all in all wealth it's a far better condition than the extreme poverty portrayed here). And if poverty receded in Spain it was not exactly with the sort of socialism that Buñuel favored, but with Western European style capitalism. But one of the most shocking things about the movie is this: in one scene, the narrator chides that in school, children are taught the value of Pi. Teaching math to poor people, the horror!. Buñuel shortsightedness is at its most glaring here, not realizing that it is access to the latest knowledge and technology what will help the poor overcome their situation. What is he proposing? That children are taught exactly what at school? Doesn't Buñuel understand that it is the lack of modern technology that has made them poor in comparison with other people?\",\n",
              "       'I saw this movie as a child and it broke my heart! No other story had such a unfinished ending... I grew up on many great anime movies and this was one of my favourites, because it was so unusual - a story about unfairness, and cruelty, and loneliness, and life, and choices that can\\'t be undone, and the need for others. Chirin is made alone when the Wolf kills his mother, but the Wolf is alone, too, when Chirin follows him into the mountain. The Wolf doesn\\'t kill the lamb, even though each night he says \\\\maybe I\\'ll eat you tomorrow.\\\\\" The tape of it I have is broken and degraded from age and use. I will repair it and watch the movie again someday and cry just as hard as I did as a child. Stories like this, with this depth and feeling, and this intricacy of meaning, are very rare. It is a sad story, but I\\'ve never encountered any catharsis more beautifully made. I am glad I have seen this movie, and I\\'m glad I saw it as a child.\"'],\n",
              "      dtype=object)"
            ]
          },
          "metadata": {},
          "execution_count": 10
        }
      ]
    },
    {
      "cell_type": "markdown",
      "source": [
        "Add special tokens which are \"[SEP]\" and \"[CLS]\" to the end for each sentence for XLNet to work properly.\n",
        "The token pattern: \n",
        "\n",
        "\n",
        "```\n",
        "Sentence_A + [SEP] + Sentence_B + [SEP] + [CLS]\n",
        "```\n",
        "\n"
      ],
      "metadata": {
        "id": "zt7b1VhjcKRo"
      }
    },
    {
      "cell_type": "code",
      "source": [
        "sentences = []\n",
        "for sentence in df['review']:\n",
        "  sentence = sentence + \"[SEP] [CLS]\"\n",
        "  sentences.append(sentence)"
      ],
      "metadata": {
        "id": "6zOGoVDcSQJj"
      },
      "execution_count": 12,
      "outputs": []
    },
    {
      "cell_type": "markdown",
      "source": [
        "See the first sentence to check can I put [SEP] [CLS] at the end of senteces."
      ],
      "metadata": {
        "id": "psbBICh6_S-E"
      }
    },
    {
      "cell_type": "code",
      "source": [
        "sentences[0]"
      ],
      "metadata": {
        "colab": {
          "base_uri": "https://localhost:8080/",
          "height": 505
        },
        "id": "_p8oYEucfISB",
        "outputId": "a995455d-6ee5-4a33-98b6-f2ccba00f2a6"
      },
      "execution_count": null,
      "outputs": [
        {
          "output_type": "execute_result",
          "data": {
            "application/vnd.google.colaboratory.intrinsic+json": {
              "type": "string"
            },
            "text/plain": [
              "\"With all this stuff going down at the moment with MJ i've started listening to his music, watching the odd documentary here and there, watched The Wiz and watched Moonwalker again. Maybe i just want to get a certain insight into this guy who i thought was really cool in the eighties just to maybe make up my mind whether he is guilty or innocent. Moonwalker is part biography, part feature film which i remember going to see at the cinema when it was originally released. Some of it has subtle messages about MJ's feeling towards the press and also the obvious message of drugs are bad m'kay.<br /><br />Visually impressive but of course this is all about Michael Jackson so unless you remotely like MJ in anyway then you are going to hate this and find it boring. Some may call MJ an egotist for consenting to the making of this movie BUT MJ and most of his fans would say that he made it for the fans which if true is really nice of him.<br /><br />The actual feature film bit when it finally starts is only on for 20 minutes or so excluding the Smooth Criminal sequence and Joe Pesci is convincing as a psychopathic all powerful drug lord. Why he wants MJ dead so bad is beyond me. Because MJ overheard his plans? Nah, Joe Pesci's character ranted that he wanted people to know it is he who is supplying drugs etc so i dunno, maybe he just hates MJ's music.<br /><br />Lots of cool things in this like MJ turning into a car and a robot and the whole Speed Demon sequence. Also, the director must have had the patience of a saint when it came to filming the kiddy Bad sequence as usually directors hate working with one kid let alone a whole bunch of them performing a complex dance scene.<br /><br />Bottom line, this movie is for people who like MJ on one level or another (which i think is most people). If not, then stay away. It does try and give off a wholesome message and ironically MJ's bestest buddy in this movie is a girl! Michael Jackson is truly one of the most talented people ever to grace this planet but is he guilty? Well, with all the attention i've gave this subject....hmmm well i don't know because people can be different behind closed doors, i know this for a fact. He is either an extremely nice but stupid guy or one of the most sickest liars. I hope he is not the latter.[SEP] [CLS]\""
            ]
          },
          "metadata": {},
          "execution_count": 15
        }
      ]
    },
    {
      "cell_type": "markdown",
      "source": [
        "Create label list and see some of its value"
      ],
      "metadata": {
        "id": "DWCX-1xo_rH1"
      }
    },
    {
      "cell_type": "code",
      "source": [
        "labels = df.sentiment.values\n",
        "labels"
      ],
      "metadata": {
        "colab": {
          "base_uri": "https://localhost:8080/"
        },
        "id": "lKmW_K2je99F",
        "outputId": "8fb9a270-db1f-405e-c1a8-697ef0de08e9"
      },
      "execution_count": 18,
      "outputs": [
        {
          "output_type": "execute_result",
          "data": {
            "text/plain": [
              "array([1, 1, 0, ..., 0, 0, 1])"
            ]
          },
          "metadata": {},
          "execution_count": 18
        }
      ]
    },
    {
      "cell_type": "markdown",
      "source": [
        "Then I import the XLNet tokenizer, used to convert the text into tokens.."
      ],
      "metadata": {
        "id": "zGuAow0k_3rD"
      }
    },
    {
      "cell_type": "code",
      "source": [
        "#Using XLNetTokenizer to tokenize to senteces\n",
        "tokenizer = XLNetTokenizer.from_pretrained('xlnet-base-cased', do_lower_case=True)"
      ],
      "metadata": {
        "colab": {
          "base_uri": "https://localhost:8080/",
          "height": 113,
          "referenced_widgets": [
            "3274e4b2cc1f498ea8f298f46304b061",
            "85f5196428314041870545f350663d8b",
            "378e4d0be71641848a7139510121f047",
            "71f261dcf91c4c96973a0994ad14c2f6",
            "9ae0df4ac9644a2680524286cf117c85",
            "388816b076174d30b5ed6941b3abe46a",
            "2ca7c5736094427eada9f35ecfb9e9dc",
            "d68811ce7dff41df80330b0b743a4993",
            "2656a19edbc94f21965fb46c255a8de8",
            "8dd9e767aa06437caae8d2398d924f91",
            "71a21b462b454d7cb6a5ae1614346f0e",
            "fc00f9abfe2741d48292dfaad6007971",
            "3b98c87bb56144eb87a3e214365c6fc8",
            "6d46853ec83842d5ba1d744bbffc0108",
            "6baf0128920c4afe9f25f4be8ccfae60",
            "568cf03606a8419fa5322fa831dd171e",
            "498d294e5dd74fab97f77feff78139bb",
            "470ccdfb0d014219969b622d9fd34e53",
            "c46d7051e1ca4e1da2ca83e0e1f19e16",
            "d6a221595b34427d8a7a6f189c43670b",
            "b4b3443eb4aa4af1b86e13382b0b234b",
            "269c864ddf04406290422fcd5f8c778b",
            "fc544dd7897f425dacf1c4b465e23b92",
            "c3cc782d04af48aaa9cf6a6295d83760",
            "002d7e87cdb9492584da3429df8bca6e",
            "4ae8e9c04c534bfa912d882b3a8a97a5",
            "49e21cbecbdf45afb02173f89109d409",
            "a3bde723510246b998a32e191944b995",
            "cc409459fdd2475f9abf4360264f8326",
            "7399b39667be4d6f87792ae38aab2100",
            "514e00211a194c70ad8f3c8052206599",
            "607b67e687b44b39848e96df36e2ccdb",
            "4e690334d5e644b6afc24cc20739eb38"
          ]
        },
        "id": "u__3JVAgSTfk",
        "outputId": "bc04b2f5-8ac6-4b08-ed42-c3431918d6f3"
      },
      "execution_count": 13,
      "outputs": [
        {
          "output_type": "display_data",
          "data": {
            "application/vnd.jupyter.widget-view+json": {
              "model_id": "3274e4b2cc1f498ea8f298f46304b061",
              "version_minor": 0,
              "version_major": 2
            },
            "text/plain": [
              "Downloading:   0%|          | 0.00/779k [00:00<?, ?B/s]"
            ]
          },
          "metadata": {}
        },
        {
          "output_type": "display_data",
          "data": {
            "application/vnd.jupyter.widget-view+json": {
              "model_id": "fc00f9abfe2741d48292dfaad6007971",
              "version_minor": 0,
              "version_major": 2
            },
            "text/plain": [
              "Downloading:   0%|          | 0.00/1.32M [00:00<?, ?B/s]"
            ]
          },
          "metadata": {}
        },
        {
          "output_type": "display_data",
          "data": {
            "application/vnd.jupyter.widget-view+json": {
              "model_id": "fc544dd7897f425dacf1c4b465e23b92",
              "version_minor": 0,
              "version_major": 2
            },
            "text/plain": [
              "Downloading:   0%|          | 0.00/760 [00:00<?, ?B/s]"
            ]
          },
          "metadata": {}
        }
      ]
    },
    {
      "cell_type": "code",
      "source": [
        "#Tokenize a sentence to words\n",
        "tokenize = [tokenizer.tokenize(sentence) for sentence in sentences]"
      ],
      "metadata": {
        "id": "fbbbzbd5SVln"
      },
      "execution_count": 14,
      "outputs": []
    },
    {
      "cell_type": "markdown",
      "source": [
        "Check the first sentence see what I get after tokenize."
      ],
      "metadata": {
        "id": "VjXD_XAQAFtR"
      }
    },
    {
      "cell_type": "code",
      "source": [
        "tokenize[0]"
      ],
      "metadata": {
        "colab": {
          "base_uri": "https://localhost:8080/"
        },
        "id": "dLeOhpb4ffcz",
        "outputId": "55047fb3-9a94-40de-c54c-baa80c16fe7f"
      },
      "execution_count": null,
      "outputs": [
        {
          "output_type": "execute_result",
          "data": {
            "text/plain": [
              "['▁with',\n",
              " '▁all',\n",
              " '▁this',\n",
              " '▁stuff',\n",
              " '▁going',\n",
              " '▁down',\n",
              " '▁at',\n",
              " '▁the',\n",
              " '▁moment',\n",
              " '▁with',\n",
              " '▁',\n",
              " 'm',\n",
              " 'j',\n",
              " '▁',\n",
              " 'i',\n",
              " \"'\",\n",
              " 've',\n",
              " '▁started',\n",
              " '▁listening',\n",
              " '▁to',\n",
              " '▁his',\n",
              " '▁music',\n",
              " ',',\n",
              " '▁watching',\n",
              " '▁the',\n",
              " '▁odd',\n",
              " '▁documentary',\n",
              " '▁here',\n",
              " '▁and',\n",
              " '▁there',\n",
              " ',',\n",
              " '▁watched',\n",
              " '▁the',\n",
              " '▁',\n",
              " 'wi',\n",
              " 'z',\n",
              " '▁and',\n",
              " '▁watched',\n",
              " '▁moon',\n",
              " 'walker',\n",
              " '▁again',\n",
              " '.',\n",
              " '▁maybe',\n",
              " '▁',\n",
              " 'i',\n",
              " '▁just',\n",
              " '▁want',\n",
              " '▁to',\n",
              " '▁get',\n",
              " '▁a',\n",
              " '▁certain',\n",
              " '▁insight',\n",
              " '▁into',\n",
              " '▁this',\n",
              " '▁guy',\n",
              " '▁who',\n",
              " '▁',\n",
              " 'i',\n",
              " '▁thought',\n",
              " '▁was',\n",
              " '▁really',\n",
              " '▁cool',\n",
              " '▁in',\n",
              " '▁the',\n",
              " '▁eight',\n",
              " 'ies',\n",
              " '▁just',\n",
              " '▁to',\n",
              " '▁maybe',\n",
              " '▁make',\n",
              " '▁up',\n",
              " '▁my',\n",
              " '▁mind',\n",
              " '▁whether',\n",
              " '▁he',\n",
              " '▁is',\n",
              " '▁guilty',\n",
              " '▁or',\n",
              " '▁innocent',\n",
              " '.',\n",
              " '▁moon',\n",
              " 'walker',\n",
              " '▁is',\n",
              " '▁part',\n",
              " '▁biography',\n",
              " ',',\n",
              " '▁part',\n",
              " '▁feature',\n",
              " '▁film',\n",
              " '▁which',\n",
              " '▁',\n",
              " 'i',\n",
              " '▁remember',\n",
              " '▁going',\n",
              " '▁to',\n",
              " '▁see',\n",
              " '▁at',\n",
              " '▁the',\n",
              " '▁cinema',\n",
              " '▁when',\n",
              " '▁it',\n",
              " '▁was',\n",
              " '▁originally',\n",
              " '▁released',\n",
              " '.',\n",
              " '▁some',\n",
              " '▁of',\n",
              " '▁it',\n",
              " '▁has',\n",
              " '▁subtle',\n",
              " '▁messages',\n",
              " '▁about',\n",
              " '▁',\n",
              " 'm',\n",
              " 'j',\n",
              " \"'\",\n",
              " 's',\n",
              " '▁feeling',\n",
              " '▁towards',\n",
              " '▁the',\n",
              " '▁press',\n",
              " '▁and',\n",
              " '▁also',\n",
              " '▁the',\n",
              " '▁obvious',\n",
              " '▁message',\n",
              " '▁of',\n",
              " '▁drugs',\n",
              " '▁are',\n",
              " '▁bad',\n",
              " '▁',\n",
              " 'm',\n",
              " \"'\",\n",
              " 'ka',\n",
              " 'y',\n",
              " '.',\n",
              " '<',\n",
              " 'br',\n",
              " '▁',\n",
              " '/',\n",
              " '>',\n",
              " '<',\n",
              " 'br',\n",
              " '▁',\n",
              " '/',\n",
              " '>',\n",
              " 'visual',\n",
              " 'ly',\n",
              " '▁impressive',\n",
              " '▁but',\n",
              " '▁of',\n",
              " '▁course',\n",
              " '▁this',\n",
              " '▁is',\n",
              " '▁all',\n",
              " '▁about',\n",
              " '▁mi',\n",
              " 'cha',\n",
              " 'el',\n",
              " '▁jack',\n",
              " 'son',\n",
              " '▁so',\n",
              " '▁unless',\n",
              " '▁you',\n",
              " '▁remotely',\n",
              " '▁like',\n",
              " '▁',\n",
              " 'm',\n",
              " 'j',\n",
              " '▁in',\n",
              " '▁anyway',\n",
              " '▁then',\n",
              " '▁you',\n",
              " '▁are',\n",
              " '▁going',\n",
              " '▁to',\n",
              " '▁hate',\n",
              " '▁this',\n",
              " '▁and',\n",
              " '▁find',\n",
              " '▁it',\n",
              " '▁boring',\n",
              " '.',\n",
              " '▁some',\n",
              " '▁may',\n",
              " '▁call',\n",
              " '▁',\n",
              " 'm',\n",
              " 'j',\n",
              " '▁an',\n",
              " '▁ego',\n",
              " 't',\n",
              " 'ist',\n",
              " '▁for',\n",
              " '▁consent',\n",
              " 'ing',\n",
              " '▁to',\n",
              " '▁the',\n",
              " '▁making',\n",
              " '▁of',\n",
              " '▁this',\n",
              " '▁movie',\n",
              " '▁but',\n",
              " '▁',\n",
              " 'm',\n",
              " 'j',\n",
              " '▁and',\n",
              " '▁most',\n",
              " '▁of',\n",
              " '▁his',\n",
              " '▁fans',\n",
              " '▁would',\n",
              " '▁say',\n",
              " '▁that',\n",
              " '▁he',\n",
              " '▁made',\n",
              " '▁it',\n",
              " '▁for',\n",
              " '▁the',\n",
              " '▁fans',\n",
              " '▁which',\n",
              " '▁if',\n",
              " '▁true',\n",
              " '▁is',\n",
              " '▁really',\n",
              " '▁nice',\n",
              " '▁of',\n",
              " '▁him',\n",
              " '.',\n",
              " '<',\n",
              " 'br',\n",
              " '▁',\n",
              " '/',\n",
              " '>',\n",
              " '<',\n",
              " 'br',\n",
              " '▁',\n",
              " '/',\n",
              " '>',\n",
              " 'the',\n",
              " '▁actual',\n",
              " '▁feature',\n",
              " '▁film',\n",
              " '▁bit',\n",
              " '▁when',\n",
              " '▁it',\n",
              " '▁finally',\n",
              " '▁starts',\n",
              " '▁is',\n",
              " '▁only',\n",
              " '▁on',\n",
              " '▁for',\n",
              " '▁20',\n",
              " '▁minutes',\n",
              " '▁or',\n",
              " '▁so',\n",
              " '▁excluding',\n",
              " '▁the',\n",
              " '▁smooth',\n",
              " '▁criminal',\n",
              " '▁sequence',\n",
              " '▁and',\n",
              " '▁',\n",
              " 'jo',\n",
              " 'e',\n",
              " '▁',\n",
              " 'pes',\n",
              " 'ci',\n",
              " '▁is',\n",
              " '▁convincing',\n",
              " '▁as',\n",
              " '▁a',\n",
              " '▁',\n",
              " 'psych',\n",
              " 'opathic',\n",
              " '▁all',\n",
              " '▁powerful',\n",
              " '▁drug',\n",
              " '▁lord',\n",
              " '.',\n",
              " '▁why',\n",
              " '▁he',\n",
              " '▁wants',\n",
              " '▁',\n",
              " 'm',\n",
              " 'j',\n",
              " '▁dead',\n",
              " '▁so',\n",
              " '▁bad',\n",
              " '▁is',\n",
              " '▁beyond',\n",
              " '▁me',\n",
              " '.',\n",
              " '▁because',\n",
              " '▁',\n",
              " 'm',\n",
              " 'j',\n",
              " '▁overheard',\n",
              " '▁his',\n",
              " '▁plans',\n",
              " '?',\n",
              " '▁',\n",
              " 'nah',\n",
              " ',',\n",
              " '▁',\n",
              " 'jo',\n",
              " 'e',\n",
              " '▁',\n",
              " 'pes',\n",
              " 'ci',\n",
              " \"'\",\n",
              " 's',\n",
              " '▁character',\n",
              " '▁ran',\n",
              " 'ted',\n",
              " '▁that',\n",
              " '▁he',\n",
              " '▁wanted',\n",
              " '▁people',\n",
              " '▁to',\n",
              " '▁know',\n",
              " '▁it',\n",
              " '▁is',\n",
              " '▁he',\n",
              " '▁who',\n",
              " '▁is',\n",
              " '▁supplying',\n",
              " '▁drugs',\n",
              " '▁etc',\n",
              " '▁so',\n",
              " '▁',\n",
              " 'i',\n",
              " '▁',\n",
              " 'dun',\n",
              " 'no',\n",
              " ',',\n",
              " '▁maybe',\n",
              " '▁he',\n",
              " '▁just',\n",
              " '▁hate',\n",
              " 's',\n",
              " '▁',\n",
              " 'm',\n",
              " 'j',\n",
              " \"'\",\n",
              " 's',\n",
              " '▁music',\n",
              " '.',\n",
              " '<',\n",
              " 'br',\n",
              " '▁',\n",
              " '/',\n",
              " '>',\n",
              " '<',\n",
              " 'br',\n",
              " '▁',\n",
              " '/',\n",
              " '>',\n",
              " 'lot',\n",
              " 's',\n",
              " '▁of',\n",
              " '▁cool',\n",
              " '▁things',\n",
              " '▁in',\n",
              " '▁this',\n",
              " '▁like',\n",
              " '▁',\n",
              " 'm',\n",
              " 'j',\n",
              " '▁turning',\n",
              " '▁into',\n",
              " '▁a',\n",
              " '▁car',\n",
              " '▁and',\n",
              " '▁a',\n",
              " '▁robot',\n",
              " '▁and',\n",
              " '▁the',\n",
              " '▁whole',\n",
              " '▁speed',\n",
              " '▁demon',\n",
              " '▁sequence',\n",
              " '.',\n",
              " '▁also',\n",
              " ',',\n",
              " '▁the',\n",
              " '▁director',\n",
              " '▁must',\n",
              " '▁have',\n",
              " '▁had',\n",
              " '▁the',\n",
              " '▁patience',\n",
              " '▁of',\n",
              " '▁a',\n",
              " '▁saint',\n",
              " '▁when',\n",
              " '▁it',\n",
              " '▁came',\n",
              " '▁to',\n",
              " '▁filming',\n",
              " '▁the',\n",
              " '▁kid',\n",
              " 'dy',\n",
              " '▁bad',\n",
              " '▁sequence',\n",
              " '▁as',\n",
              " '▁usually',\n",
              " '▁directors',\n",
              " '▁hate',\n",
              " '▁working',\n",
              " '▁with',\n",
              " '▁one',\n",
              " '▁kid',\n",
              " '▁let',\n",
              " '▁alone',\n",
              " '▁a',\n",
              " '▁whole',\n",
              " '▁bunch',\n",
              " '▁of',\n",
              " '▁them',\n",
              " '▁performing',\n",
              " '▁a',\n",
              " '▁complex',\n",
              " '▁dance',\n",
              " '▁scene',\n",
              " '.',\n",
              " '<',\n",
              " 'br',\n",
              " '▁',\n",
              " '/',\n",
              " '>',\n",
              " '<',\n",
              " 'br',\n",
              " '▁',\n",
              " '/',\n",
              " '>',\n",
              " 'bottom',\n",
              " '▁line',\n",
              " ',',\n",
              " '▁this',\n",
              " '▁movie',\n",
              " '▁is',\n",
              " '▁for',\n",
              " '▁people',\n",
              " '▁who',\n",
              " '▁like',\n",
              " '▁',\n",
              " 'm',\n",
              " 'j',\n",
              " '▁on',\n",
              " '▁one',\n",
              " '▁level',\n",
              " '▁or',\n",
              " '▁another',\n",
              " '▁',\n",
              " '(',\n",
              " 'which',\n",
              " '▁',\n",
              " 'i',\n",
              " '▁think',\n",
              " '▁is',\n",
              " '▁most',\n",
              " '▁people',\n",
              " ')',\n",
              " '.',\n",
              " '▁if',\n",
              " '▁not',\n",
              " ',',\n",
              " '▁then',\n",
              " '▁stay',\n",
              " '▁away',\n",
              " '.',\n",
              " '▁it',\n",
              " '▁does',\n",
              " '▁try',\n",
              " '▁and',\n",
              " '▁give',\n",
              " '▁off',\n",
              " '▁a',\n",
              " '▁whole',\n",
              " 'some',\n",
              " '▁message',\n",
              " '▁and',\n",
              " '▁ironically',\n",
              " '▁',\n",
              " 'm',\n",
              " 'j',\n",
              " \"'\",\n",
              " 's',\n",
              " '▁best',\n",
              " 'est',\n",
              " '▁buddy',\n",
              " '▁in',\n",
              " '▁this',\n",
              " '▁movie',\n",
              " '▁is',\n",
              " '▁a',\n",
              " '▁girl',\n",
              " '!',\n",
              " '▁mi',\n",
              " 'cha',\n",
              " 'el',\n",
              " '▁jack',\n",
              " 'son',\n",
              " '▁is',\n",
              " '▁truly',\n",
              " '▁one',\n",
              " '▁of',\n",
              " '▁the',\n",
              " '▁most',\n",
              " '▁talented',\n",
              " '▁people',\n",
              " '▁ever',\n",
              " '▁to',\n",
              " '▁grace',\n",
              " '▁this',\n",
              " '▁planet',\n",
              " '▁but',\n",
              " '▁is',\n",
              " '▁he',\n",
              " '▁guilty',\n",
              " '?',\n",
              " '▁well',\n",
              " ',',\n",
              " '▁with',\n",
              " '▁all',\n",
              " '▁the',\n",
              " '▁attention',\n",
              " '▁',\n",
              " 'i',\n",
              " \"'\",\n",
              " 've',\n",
              " '▁gave',\n",
              " '▁this',\n",
              " '▁subject',\n",
              " '.',\n",
              " '.',\n",
              " '.',\n",
              " '.',\n",
              " 'hm',\n",
              " 'mm',\n",
              " '▁well',\n",
              " '▁',\n",
              " 'i',\n",
              " '▁don',\n",
              " \"'\",\n",
              " 't',\n",
              " '▁know',\n",
              " '▁because',\n",
              " '▁people',\n",
              " '▁can',\n",
              " '▁be',\n",
              " '▁different',\n",
              " '▁behind',\n",
              " '▁closed',\n",
              " '▁doors',\n",
              " ',',\n",
              " '▁',\n",
              " 'i',\n",
              " '▁know',\n",
              " '▁this',\n",
              " '▁for',\n",
              " '▁a',\n",
              " '▁fact',\n",
              " '.',\n",
              " '▁he',\n",
              " '▁is',\n",
              " '▁either',\n",
              " '▁an',\n",
              " '▁extremely',\n",
              " '▁nice',\n",
              " '▁but',\n",
              " '▁stupid',\n",
              " '▁guy',\n",
              " '▁or',\n",
              " '▁one',\n",
              " '▁of',\n",
              " '▁the',\n",
              " '▁most',\n",
              " '▁sick',\n",
              " 'est',\n",
              " '▁',\n",
              " 'lia',\n",
              " 'rs',\n",
              " '.',\n",
              " '▁',\n",
              " 'i',\n",
              " '▁hope',\n",
              " '▁he',\n",
              " '▁is',\n",
              " '▁not',\n",
              " '▁the',\n",
              " '▁latter',\n",
              " '.',\n",
              " '[',\n",
              " 's',\n",
              " 'ep',\n",
              " ']',\n",
              " '▁[',\n",
              " 'cl',\n",
              " 's',\n",
              " ']']"
            ]
          },
          "metadata": {},
          "execution_count": 18
        }
      ]
    },
    {
      "cell_type": "markdown",
      "source": [
        "XLNet requires specifically formatted inputs. For each tokenized input sentence, need to create:\n",
        "\n",
        "\n",
        "1.   input ids: a sequence of integers identifying each input token to its index number in the XLNet tokenizer vocabulary\n",
        "2.   segment mask: (optional) a sequence of 1s and 0s used to identify whether the input is one sentence or two sentences long. For one sentence inputs, this is simply a sequence of 0s. For two sentence inputs, there is a 0 for each token of the first sentence, followed by a 1 for each token of the second sentence\n",
        "3. attention mask: (optional) a sequence of 1s and 0s, with 1s for all input tokens and 0s for all padding tokens\n",
        "4. labels: a single value of 1 or 0. In our task 1 means \"grammatical\" and 0 means \"ungrammatical\"\n",
        "\n",
        "I just use two require are **input_ids and labels.**\n",
        "\n",
        "About **pad_sequences**\n",
        "\n",
        "To \"pad\" the inputs means that if a sentence is shorter than the maximum sentence length, we will add 0s to the end of the sequence until it is the maximum sentence length.\n",
        "If a sentence is longer than the maximum sentence length, then we truncate the end of the sequence, discarding anything that does not fit into our maximum sentence length.\n",
        "\n",
        "We pad and truncate our sequences so that they all become of length MAX_LEN (\"post\" indicates that we want to pad and truncate at the end of the sequence, as opposed to the beginning) pad_sequences handles the truncating and padding of Python lists."
      ],
      "metadata": {
        "id": "6vRwA6_EAfGk"
      }
    },
    {
      "cell_type": "code",
      "source": [
        "# Set sequences to be at most 128 tokens long.\n",
        "MAX_SEQ_LENGTH = 128"
      ],
      "metadata": {
        "id": "BHR5B95TSXi3"
      },
      "execution_count": 15,
      "outputs": []
    },
    {
      "cell_type": "markdown",
      "source": [
        "Use the XLNet tokenizer to convert the tokens to their index numbers in the XLNet vocabulary then pad input tokens\n"
      ],
      "metadata": {
        "id": "PUuWDTSeB4rJ"
      }
    },
    {
      "cell_type": "code",
      "source": [
        "#convert token to id\n",
        "input_ids = [tokenizer.convert_tokens_to_ids(x) for x in tokenize]\n",
        "input_ids = pad_sequences(input_ids, maxlen=MAX_SEQ_LENGTH, dtype=\"long\", truncating=\"post\", padding=\"post\")\n",
        "input_ids"
      ],
      "metadata": {
        "colab": {
          "base_uri": "https://localhost:8080/"
        },
        "id": "mQWkDMH_Sa2Q",
        "outputId": "978e22db-83e6-437c-8f39-5e4310469bfb"
      },
      "execution_count": 16,
      "outputs": [
        {
          "output_type": "execute_result",
          "data": {
            "text/plain": [
              "array([[   33,    71,    52, ...,  1497,    20,  2221],\n",
              "       [   17, 17666,   305, ...,    24,  1432,     9],\n",
              "       [   18,   468,  3091, ...,    25,    18,  7886],\n",
              "       ...,\n",
              "       [ 2035,    27,    24, ...,     9,    57,    52],\n",
              "       [   52,   544,  1901, ..., 17161, 10754,    19],\n",
              "       [   17,   150,   685, ...,    43,   349,    17]])"
            ]
          },
          "metadata": {},
          "execution_count": 16
        }
      ]
    },
    {
      "cell_type": "code",
      "source": [
        "#train_test_split to split data into train and validation sets\n",
        "train_inputs, validation_inputs, train_labels, validation_labels = train_test_split(input_ids, labels, \n",
        "                                                                                    test_size=0.2)"
      ],
      "metadata": {
        "id": "XgnFrgw8SeI7"
      },
      "execution_count": 19,
      "outputs": []
    },
    {
      "cell_type": "markdown",
      "source": [
        "Convert all of our data into torch tensors, the model that I used required that datatype.\n"
      ],
      "metadata": {
        "id": "A5HVWkyMCG5T"
      }
    },
    {
      "cell_type": "code",
      "source": [
        "train_inputs = torch.tensor(train_inputs)\n",
        "validation_inputs = torch.tensor(validation_inputs)\n",
        "train_labels = torch.tensor(train_labels)\n",
        "validation_labels = torch.tensor(validation_labels)"
      ],
      "metadata": {
        "id": "4a3xEfMGSkPy"
      },
      "execution_count": 20,
      "outputs": []
    },
    {
      "cell_type": "markdown",
      "source": [
        "I define some hyperparameters I need after with values is the recommendation of the paper"
      ],
      "metadata": {
        "id": "pIcY2mvaCVGD"
      }
    },
    {
      "cell_type": "code",
      "source": [
        "#HYPERPARAMETERS\n",
        "BATCH_SIZE = 32\n",
        "NUM_EPOCHS = 4\n",
        "LEARNING_RATE = 2e-5"
      ],
      "metadata": {
        "id": "dvgS26Nzqsid"
      },
      "execution_count": 21,
      "outputs": []
    },
    {
      "cell_type": "markdown",
      "source": [
        "Create an iterator of data with torch DataLoader. This helps save on memory during training."
      ],
      "metadata": {
        "id": "yD8N6Jm3CkWd"
      }
    },
    {
      "cell_type": "code",
      "source": [
        "train_dataset = TensorDataset(train_inputs, train_labels)\n",
        "valid_dataset = TensorDataset(validation_inputs, validation_labels)\n",
        "\n",
        "train_dataloader = DataLoader(train_dataset, batch_size=BATCH_SIZE, shuffle=True)\n",
        "valid_dataloader = DataLoader(valid_dataset, batch_size=BATCH_SIZE, shuffle=True)\n",
        "\n",
        "# Print number of batches in each split.\n",
        "print('Created `torchtext_train_dataloader` with %d batches!'%len(train_dataloader))\n",
        "print('Created `torchtext_valid_dataloader` with %d batches!'%len(valid_dataloader))"
      ],
      "metadata": {
        "colab": {
          "base_uri": "https://localhost:8080/"
        },
        "id": "MUDoaqCvSoaQ",
        "outputId": "457d90cd-bc7f-48b2-a9f1-b5ea67d8b29a"
      },
      "execution_count": 22,
      "outputs": [
        {
          "output_type": "stream",
          "name": "stdout",
          "text": [
            "Created `torchtext_train_dataloader` with 625 batches!\n",
            "Created `torchtext_valid_dataloader` with 157 batches!\n"
          ]
        }
      ]
    },
    {
      "cell_type": "markdown",
      "source": [
        "# Train Model\n",
        "I use the “xlnet-base-uncased” version of XLNet, which is the smaller model than the “xlnet-large-uncased”. The model I used have 12-layer, 768-hidden, 12-heads.\n",
        "For sentiment analysis task, first I have modify the pre-trained model to give outputs for classification then continue training the model on the dataset.\n",
        "With another task, Huggingface transformers libraries for XLNet have many differences for tasks. \n",
        "\n",
        "Load XLNetForSequenceClassification. This is the normal XLNet model with an added single linear layer on top for classification use as a sentence classifier here. "
      ],
      "metadata": {
        "id": "4oVS9vxYC0fQ"
      }
    },
    {
      "cell_type": "code",
      "source": [
        "model = XLNetForSequenceClassification.from_pretrained('xlnet-base-cased', num_labels=2)"
      ],
      "metadata": {
        "colab": {
          "base_uri": "https://localhost:8080/",
          "height": 156,
          "referenced_widgets": [
            "924593b4756c4661a3ea1b9e71a6d3c7",
            "8ec84dd5cd86412c8d664191bccfc4d4",
            "2be606565cce486f92aa6887c3dad8bb",
            "c5fe5753f10c4a9dab3741f2de00f0fc",
            "ff5b3254e7fe44b0abefa8def754dd67",
            "a8642952ceff42dabf7fcf8debac1e01",
            "47bd41ea5a274789bb08c53d23e73795",
            "7c74a6b6afb54071b78f7358f233fe34",
            "1b999c1ad5ce455d8370f3bc2842d866",
            "46ef7900db3f449fa99def53fea8eace",
            "8c16a90a494040b5ab54191dacf547b4"
          ]
        },
        "id": "-FBrfyquZa2Q",
        "outputId": "360509d0-3d5b-487c-e2bb-442a6745247a"
      },
      "execution_count": 23,
      "outputs": [
        {
          "output_type": "display_data",
          "data": {
            "application/vnd.jupyter.widget-view+json": {
              "model_id": "924593b4756c4661a3ea1b9e71a6d3c7",
              "version_minor": 0,
              "version_major": 2
            },
            "text/plain": [
              "Downloading:   0%|          | 0.00/445M [00:00<?, ?B/s]"
            ]
          },
          "metadata": {}
        },
        {
          "output_type": "stream",
          "name": "stderr",
          "text": [
            "Some weights of the model checkpoint at xlnet-base-cased were not used when initializing XLNetForSequenceClassification: ['lm_loss.bias', 'lm_loss.weight']\n",
            "- This IS expected if you are initializing XLNetForSequenceClassification from the checkpoint of a model trained on another task or with another architecture (e.g. initializing a BertForSequenceClassification model from a BertForPreTraining model).\n",
            "- This IS NOT expected if you are initializing XLNetForSequenceClassification from the checkpoint of a model that you expect to be exactly identical (initializing a BertForSequenceClassification model from a BertForSequenceClassification model).\n",
            "Some weights of XLNetForSequenceClassification were not initialized from the model checkpoint at xlnet-base-cased and are newly initialized: ['sequence_summary.summary.weight', 'logits_proj.bias', 'sequence_summary.summary.bias', 'logits_proj.weight']\n",
            "You should probably TRAIN this model on a down-stream task to be able to use it for predictions and inference.\n"
          ]
        }
      ]
    },
    {
      "cell_type": "code",
      "source": [
        "model.cuda()"
      ],
      "metadata": {
        "colab": {
          "base_uri": "https://localhost:8080/"
        },
        "id": "5i38D4Jna88e",
        "outputId": "fe41ef56-8eb6-435a-b232-d27a8452cf8e"
      },
      "execution_count": 24,
      "outputs": [
        {
          "output_type": "execute_result",
          "data": {
            "text/plain": [
              "XLNetForSequenceClassification(\n",
              "  (transformer): XLNetModel(\n",
              "    (word_embedding): Embedding(32000, 768)\n",
              "    (layer): ModuleList(\n",
              "      (0): XLNetLayer(\n",
              "        (rel_attn): XLNetRelativeAttention(\n",
              "          (layer_norm): LayerNorm((768,), eps=1e-12, elementwise_affine=True)\n",
              "          (dropout): Dropout(p=0.1, inplace=False)\n",
              "        )\n",
              "        (ff): XLNetFeedForward(\n",
              "          (layer_norm): LayerNorm((768,), eps=1e-12, elementwise_affine=True)\n",
              "          (layer_1): Linear(in_features=768, out_features=3072, bias=True)\n",
              "          (layer_2): Linear(in_features=3072, out_features=768, bias=True)\n",
              "          (dropout): Dropout(p=0.1, inplace=False)\n",
              "        )\n",
              "        (dropout): Dropout(p=0.1, inplace=False)\n",
              "      )\n",
              "      (1): XLNetLayer(\n",
              "        (rel_attn): XLNetRelativeAttention(\n",
              "          (layer_norm): LayerNorm((768,), eps=1e-12, elementwise_affine=True)\n",
              "          (dropout): Dropout(p=0.1, inplace=False)\n",
              "        )\n",
              "        (ff): XLNetFeedForward(\n",
              "          (layer_norm): LayerNorm((768,), eps=1e-12, elementwise_affine=True)\n",
              "          (layer_1): Linear(in_features=768, out_features=3072, bias=True)\n",
              "          (layer_2): Linear(in_features=3072, out_features=768, bias=True)\n",
              "          (dropout): Dropout(p=0.1, inplace=False)\n",
              "        )\n",
              "        (dropout): Dropout(p=0.1, inplace=False)\n",
              "      )\n",
              "      (2): XLNetLayer(\n",
              "        (rel_attn): XLNetRelativeAttention(\n",
              "          (layer_norm): LayerNorm((768,), eps=1e-12, elementwise_affine=True)\n",
              "          (dropout): Dropout(p=0.1, inplace=False)\n",
              "        )\n",
              "        (ff): XLNetFeedForward(\n",
              "          (layer_norm): LayerNorm((768,), eps=1e-12, elementwise_affine=True)\n",
              "          (layer_1): Linear(in_features=768, out_features=3072, bias=True)\n",
              "          (layer_2): Linear(in_features=3072, out_features=768, bias=True)\n",
              "          (dropout): Dropout(p=0.1, inplace=False)\n",
              "        )\n",
              "        (dropout): Dropout(p=0.1, inplace=False)\n",
              "      )\n",
              "      (3): XLNetLayer(\n",
              "        (rel_attn): XLNetRelativeAttention(\n",
              "          (layer_norm): LayerNorm((768,), eps=1e-12, elementwise_affine=True)\n",
              "          (dropout): Dropout(p=0.1, inplace=False)\n",
              "        )\n",
              "        (ff): XLNetFeedForward(\n",
              "          (layer_norm): LayerNorm((768,), eps=1e-12, elementwise_affine=True)\n",
              "          (layer_1): Linear(in_features=768, out_features=3072, bias=True)\n",
              "          (layer_2): Linear(in_features=3072, out_features=768, bias=True)\n",
              "          (dropout): Dropout(p=0.1, inplace=False)\n",
              "        )\n",
              "        (dropout): Dropout(p=0.1, inplace=False)\n",
              "      )\n",
              "      (4): XLNetLayer(\n",
              "        (rel_attn): XLNetRelativeAttention(\n",
              "          (layer_norm): LayerNorm((768,), eps=1e-12, elementwise_affine=True)\n",
              "          (dropout): Dropout(p=0.1, inplace=False)\n",
              "        )\n",
              "        (ff): XLNetFeedForward(\n",
              "          (layer_norm): LayerNorm((768,), eps=1e-12, elementwise_affine=True)\n",
              "          (layer_1): Linear(in_features=768, out_features=3072, bias=True)\n",
              "          (layer_2): Linear(in_features=3072, out_features=768, bias=True)\n",
              "          (dropout): Dropout(p=0.1, inplace=False)\n",
              "        )\n",
              "        (dropout): Dropout(p=0.1, inplace=False)\n",
              "      )\n",
              "      (5): XLNetLayer(\n",
              "        (rel_attn): XLNetRelativeAttention(\n",
              "          (layer_norm): LayerNorm((768,), eps=1e-12, elementwise_affine=True)\n",
              "          (dropout): Dropout(p=0.1, inplace=False)\n",
              "        )\n",
              "        (ff): XLNetFeedForward(\n",
              "          (layer_norm): LayerNorm((768,), eps=1e-12, elementwise_affine=True)\n",
              "          (layer_1): Linear(in_features=768, out_features=3072, bias=True)\n",
              "          (layer_2): Linear(in_features=3072, out_features=768, bias=True)\n",
              "          (dropout): Dropout(p=0.1, inplace=False)\n",
              "        )\n",
              "        (dropout): Dropout(p=0.1, inplace=False)\n",
              "      )\n",
              "      (6): XLNetLayer(\n",
              "        (rel_attn): XLNetRelativeAttention(\n",
              "          (layer_norm): LayerNorm((768,), eps=1e-12, elementwise_affine=True)\n",
              "          (dropout): Dropout(p=0.1, inplace=False)\n",
              "        )\n",
              "        (ff): XLNetFeedForward(\n",
              "          (layer_norm): LayerNorm((768,), eps=1e-12, elementwise_affine=True)\n",
              "          (layer_1): Linear(in_features=768, out_features=3072, bias=True)\n",
              "          (layer_2): Linear(in_features=3072, out_features=768, bias=True)\n",
              "          (dropout): Dropout(p=0.1, inplace=False)\n",
              "        )\n",
              "        (dropout): Dropout(p=0.1, inplace=False)\n",
              "      )\n",
              "      (7): XLNetLayer(\n",
              "        (rel_attn): XLNetRelativeAttention(\n",
              "          (layer_norm): LayerNorm((768,), eps=1e-12, elementwise_affine=True)\n",
              "          (dropout): Dropout(p=0.1, inplace=False)\n",
              "        )\n",
              "        (ff): XLNetFeedForward(\n",
              "          (layer_norm): LayerNorm((768,), eps=1e-12, elementwise_affine=True)\n",
              "          (layer_1): Linear(in_features=768, out_features=3072, bias=True)\n",
              "          (layer_2): Linear(in_features=3072, out_features=768, bias=True)\n",
              "          (dropout): Dropout(p=0.1, inplace=False)\n",
              "        )\n",
              "        (dropout): Dropout(p=0.1, inplace=False)\n",
              "      )\n",
              "      (8): XLNetLayer(\n",
              "        (rel_attn): XLNetRelativeAttention(\n",
              "          (layer_norm): LayerNorm((768,), eps=1e-12, elementwise_affine=True)\n",
              "          (dropout): Dropout(p=0.1, inplace=False)\n",
              "        )\n",
              "        (ff): XLNetFeedForward(\n",
              "          (layer_norm): LayerNorm((768,), eps=1e-12, elementwise_affine=True)\n",
              "          (layer_1): Linear(in_features=768, out_features=3072, bias=True)\n",
              "          (layer_2): Linear(in_features=3072, out_features=768, bias=True)\n",
              "          (dropout): Dropout(p=0.1, inplace=False)\n",
              "        )\n",
              "        (dropout): Dropout(p=0.1, inplace=False)\n",
              "      )\n",
              "      (9): XLNetLayer(\n",
              "        (rel_attn): XLNetRelativeAttention(\n",
              "          (layer_norm): LayerNorm((768,), eps=1e-12, elementwise_affine=True)\n",
              "          (dropout): Dropout(p=0.1, inplace=False)\n",
              "        )\n",
              "        (ff): XLNetFeedForward(\n",
              "          (layer_norm): LayerNorm((768,), eps=1e-12, elementwise_affine=True)\n",
              "          (layer_1): Linear(in_features=768, out_features=3072, bias=True)\n",
              "          (layer_2): Linear(in_features=3072, out_features=768, bias=True)\n",
              "          (dropout): Dropout(p=0.1, inplace=False)\n",
              "        )\n",
              "        (dropout): Dropout(p=0.1, inplace=False)\n",
              "      )\n",
              "      (10): XLNetLayer(\n",
              "        (rel_attn): XLNetRelativeAttention(\n",
              "          (layer_norm): LayerNorm((768,), eps=1e-12, elementwise_affine=True)\n",
              "          (dropout): Dropout(p=0.1, inplace=False)\n",
              "        )\n",
              "        (ff): XLNetFeedForward(\n",
              "          (layer_norm): LayerNorm((768,), eps=1e-12, elementwise_affine=True)\n",
              "          (layer_1): Linear(in_features=768, out_features=3072, bias=True)\n",
              "          (layer_2): Linear(in_features=3072, out_features=768, bias=True)\n",
              "          (dropout): Dropout(p=0.1, inplace=False)\n",
              "        )\n",
              "        (dropout): Dropout(p=0.1, inplace=False)\n",
              "      )\n",
              "      (11): XLNetLayer(\n",
              "        (rel_attn): XLNetRelativeAttention(\n",
              "          (layer_norm): LayerNorm((768,), eps=1e-12, elementwise_affine=True)\n",
              "          (dropout): Dropout(p=0.1, inplace=False)\n",
              "        )\n",
              "        (ff): XLNetFeedForward(\n",
              "          (layer_norm): LayerNorm((768,), eps=1e-12, elementwise_affine=True)\n",
              "          (layer_1): Linear(in_features=768, out_features=3072, bias=True)\n",
              "          (layer_2): Linear(in_features=3072, out_features=768, bias=True)\n",
              "          (dropout): Dropout(p=0.1, inplace=False)\n",
              "        )\n",
              "        (dropout): Dropout(p=0.1, inplace=False)\n",
              "      )\n",
              "    )\n",
              "    (dropout): Dropout(p=0.1, inplace=False)\n",
              "  )\n",
              "  (sequence_summary): SequenceSummary(\n",
              "    (summary): Linear(in_features=768, out_features=768, bias=True)\n",
              "    (first_dropout): Identity()\n",
              "    (last_dropout): Dropout(p=0.1, inplace=False)\n",
              "  )\n",
              "  (logits_proj): Linear(in_features=768, out_features=2, bias=True)\n",
              ")"
            ]
          },
          "metadata": {},
          "execution_count": 24
        }
      ]
    },
    {
      "cell_type": "code",
      "source": [
        "#Calculate the accuracy of predictions vs labels\n",
        "def flat_accuracy(preds, labels):\n",
        "    pred_flat = np.argmax(preds, axis=1).flatten()\n",
        "    labels_flat = labels.flatten()\n",
        "    return np.sum(pred_flat == labels_flat) / len(labels_flat)"
      ],
      "metadata": {
        "id": "qTSSGXqIo2S-"
      },
      "execution_count": 25,
      "outputs": []
    },
    {
      "cell_type": "markdown",
      "source": [
        "Optimizers define how the weights of the neural network are to be updated.\n",
        "I use AdamW optimizer which yields better training loss and that the models generalize much better than models trained with Adam. \n",
        "\n",
        "\n",
        "\n",
        "\n",
        "\n",
        "\n"
      ],
      "metadata": {
        "id": "jEO_ySHWFnAK"
      }
    },
    {
      "cell_type": "code",
      "source": [
        "optimizer = optim.AdamW(model.parameters(), lr=LEARNING_RATE)"
      ],
      "metadata": {
        "id": "UOyeey6pw_1b"
      },
      "execution_count": 26,
      "outputs": []
    },
    {
      "cell_type": "markdown",
      "source": [
        "Training loop and validation loop are below. There are some details of those.\n",
        "\n",
        "1.   Training Mode:  Set by model.train(), it tells the model is training. So layers like dropout etc. which behave differently while training and testing can behave accordingly.\n",
        "2.   Evaluation Mode:  Set by model.eval(), it tells the model is testing.\n",
        "\n",
        "Training steps in traning loop: \n",
        "- Tell the model to compute gradients by setting the model in train mode\n",
        "- Unpack data inputs and labels\n",
        "- Load data onto the GPU for acceleration\n",
        "- Clear out the gradients calculated in the previous pass. \n",
        "- Forward pass (feed input data through the network)\n",
        "- Calculate the loss\n",
        "- Perform a backward pass using loss.backward() to calculate the gradients\n",
        "- Take optimizer step using optimizer.step() to update the weights\n",
        "- Track variables for monitoring progress\n",
        "\n",
        "Evaluation steps in evalution loop:\n",
        "- Tell the model not to compute gradients by setting th emodel in evaluation mode\n",
        "- Unpack the data inputs and labels\n",
        "- Load data onto the GPU for acceleration\n",
        "- Forward pass (feed input data through the network)\n",
        "- Compute loss on validation data and track variables for monitoring progress."
      ],
      "metadata": {
        "id": "g0iRSzmKIbaY"
      }
    },
    {
      "cell_type": "code",
      "source": [
        "# initialize running values\n",
        "train_loss_set = []\n",
        "\n",
        "current_time = datetime.now()\n",
        "\n",
        "for epoch in range(NUM_EPOCHS):\n",
        "  #Training\n",
        "  model.train()\n",
        "  # Tracking variables\n",
        "  running_loss = 0\n",
        "  number_training_examples = 0.0\n",
        "  number_training_steps = 0.0\n",
        "  \n",
        "  # Train the data for one epoch\n",
        "  for step, batch in enumerate(train_dataloader):\n",
        "    batch = tuple(t.to(device) for t in batch)\n",
        "    # Unpack the inputs \n",
        "    input_ids_, labels_ = batch\n",
        "    # zero the parameter gradients\n",
        "    optimizer.zero_grad()\n",
        "    # forward + backward + optimize\n",
        "    outputs = model(input_ids_, token_type_ids=None, labels=labels_)\n",
        "    loss = outputs[0]\n",
        "    logits = outputs[1]\n",
        "    train_loss_set.append(loss.item())    \n",
        "    loss.backward()\n",
        "    optimizer.step()\n",
        "    \n",
        "    # Update tracking variables\n",
        "    running_loss += loss.item()\n",
        "    number_training_examples += input_ids_.size(0)\n",
        "    number_training_steps += 1\n",
        "  train_loss = running_loss/number_training_steps\n",
        "       \n",
        "  # Validation\n",
        "  model.eval()\n",
        "\n",
        "  # Tracking variables \n",
        "  eval_loss = 0\n",
        "  eval_accuracy = 0\n",
        "  number_eval_steps = 0\n",
        "  number_eval_examples = 0\n",
        "\n",
        "  # Evaluate data for one epoch\n",
        "  for batch in valid_dataloader:\n",
        "    batch = tuple(t.to(device) for t in batch)\n",
        "    # Unpack the inputs from our dataloader\n",
        "    input_ids_, labels_ = batch\n",
        "    with torch.no_grad():\n",
        "      # Forward pass, calculate logit predictions\n",
        "      output = model(input_ids_, token_type_ids=None)\n",
        "      logits = output[0]\n",
        "    \n",
        "    # Move logits and labels to CPU\n",
        "    logits = logits.detach().cpu().numpy()\n",
        "    label_ids = labels_.to('cpu').numpy()\n",
        "\n",
        "    tmp_eval_accuracy = flat_accuracy(logits, label_ids)\n",
        "    \n",
        "    eval_accuracy += tmp_eval_accuracy\n",
        "    number_eval_steps += 1\n",
        "  accuracy = eval_accuracy/number_eval_steps\n",
        "  # print progress\n",
        "  print('Epoch [{}/{}], Train Loss: {:.4f}, Validation Accuracy: {:.4f}'\n",
        "                      .format(epoch+1, NUM_EPOCHS, \n",
        "                              train_loss, accuracy))\n",
        "  \n",
        "print(\"Total time \", datetime.now() - current_time)"
      ],
      "metadata": {
        "colab": {
          "base_uri": "https://localhost:8080/"
        },
        "id": "819CAGW4bC7U",
        "outputId": "825cc6d5-d18e-4aeb-9dbf-a96d22dcabdd"
      },
      "execution_count": 27,
      "outputs": [
        {
          "output_type": "stream",
          "name": "stdout",
          "text": [
            "Epoch [1/4], Train Loss: 0.3262, Validation Accuracy: 0.8865\n",
            "Epoch [2/4], Train Loss: 0.2094, Validation Accuracy: 0.8885\n",
            "Epoch [3/4], Train Loss: 0.1314, Validation Accuracy: 0.8814\n",
            "Epoch [4/4], Train Loss: 0.0767, Validation Accuracy: 0.8828\n",
            "Total time  0:41:09.931627\n"
          ]
        }
      ]
    },
    {
      "cell_type": "markdown",
      "source": [
        "Visualize the training loss"
      ],
      "metadata": {
        "id": "9XZimAbbIyRM"
      }
    },
    {
      "cell_type": "code",
      "source": [
        "plt.figure(figsize=(15,8))\n",
        "plt.title(\"Training loss\")\n",
        "plt.xlabel(\"Batch\")\n",
        "plt.ylabel(\"Loss\")\n",
        "plt.plot(train_loss_set)\n",
        "plt.show()"
      ],
      "metadata": {
        "colab": {
          "base_uri": "https://localhost:8080/",
          "height": 513
        },
        "id": "pJp6MR7JxWqP",
        "outputId": "cc3246cb-ca2c-4867-c099-56b6e14df0cf"
      },
      "execution_count": 28,
      "outputs": [
        {
          "output_type": "display_data",
          "data": {
            "image/png": "[encoded data removed]",
            "text/plain": [
              "<Figure size 1080x576 with 1 Axes>"
            ]
          },
          "metadata": {
            "needs_background": "light"
          }
        }
      ]
    },
    {
      "cell_type": "markdown",
      "source": [
        "# Test the model and get its accuracy"
      ],
      "metadata": {
        "id": "V0rU7bKkI3QD"
      }
    },
    {
      "cell_type": "code",
      "source": [
        "correct = 0\n",
        "total = 0\n",
        "with torch.no_grad():\n",
        "    for i, batch in enumerate(valid_dataloader):\n",
        "      batch = tuple(t.to(device) for t in batch)\n",
        "      # Unpack the inputs from our dataloader\n",
        "      input_ids_, labels_ = batch\n",
        "      # Forward pass\n",
        "      outputs = model(input_ids_, token_type_ids=None)\n",
        "      logits = outputs[0]\n",
        "      prediction = torch.argmax(logits, 1)\n",
        "      total += labels_.size(0)\n",
        "      correct+=(prediction==labels_).sum().item()\n",
        "print('Test Accuracy on validation dataset is: {} %'.format(100 * correct / total))"
      ],
      "metadata": {
        "id": "rogtW4w7PeEV",
        "colab": {
          "base_uri": "https://localhost:8080/"
        },
        "outputId": "86c98f9c-6aca-4394-ab0c-28e62435d102"
      },
      "execution_count": 29,
      "outputs": [
        {
          "output_type": "stream",
          "name": "stdout",
          "text": [
            "Test Accuracy on validation dataset is: 88.22 %\n"
          ]
        }
      ]
    }
  ]
}